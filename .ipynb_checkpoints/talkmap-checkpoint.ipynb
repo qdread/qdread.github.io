{
 "cells": [
  {
   "cell_type": "markdown",
   "metadata": {},
   "source": [
    "# Leaflet cluster map of talk locations\n",
    "\n",
    "Run this from the _talks/ directory, which contains .md files of all your talks. This scrapes the location YAML field from each .md file, geolocates it with geopy/Nominatim, and uses the getorg library to output data, HTML, and Javascript for a standalone cluster map."
   ]
  },
  {
   "cell_type": "code",
   "execution_count": 6,
   "metadata": {},
   "outputs": [
    {
     "name": "stdout",
     "output_type": "stream",
     "text": [
      "Requirement already up-to-date: getorg in c:\\users\\qread\\appdata\\local\\continuum\\anaconda3\\lib\\site-packages (0.3.1)\n",
      "Requirement not upgraded as not directly required: retrying in c:\\users\\qread\\appdata\\local\\continuum\\anaconda3\\lib\\site-packages (from getorg) (1.3.3)\n",
      "Requirement not upgraded as not directly required: pygithub in c:\\users\\qread\\appdata\\local\\continuum\\anaconda3\\lib\\site-packages (from getorg) (1.43.5)\n",
      "Requirement not upgraded as not directly required: geopy in c:\\users\\qread\\appdata\\local\\continuum\\anaconda3\\lib\\site-packages (from getorg) (1.18.1)\n",
      "Requirement not upgraded as not directly required: six>=1.7.0 in c:\\users\\qread\\appdata\\local\\continuum\\anaconda3\\lib\\site-packages (from retrying->getorg) (1.11.0)\n",
      "Requirement not upgraded as not directly required: requests>=2.14.0 in c:\\users\\qread\\appdata\\local\\continuum\\anaconda3\\lib\\site-packages (from pygithub->getorg) (2.18.4)\n",
      "Requirement not upgraded as not directly required: pyjwt in c:\\users\\qread\\appdata\\local\\continuum\\anaconda3\\lib\\site-packages (from pygithub->getorg) (1.7.1)\n",
      "Requirement not upgraded as not directly required: Deprecated in c:\\users\\qread\\appdata\\local\\continuum\\anaconda3\\lib\\site-packages (from pygithub->getorg) (1.2.5)\n",
      "Requirement not upgraded as not directly required: geographiclib<2,>=1.49 in c:\\users\\qread\\appdata\\local\\continuum\\anaconda3\\lib\\site-packages (from geopy->getorg) (1.49)\n",
      "Requirement not upgraded as not directly required: chardet<3.1.0,>=3.0.2 in c:\\users\\qread\\appdata\\local\\continuum\\anaconda3\\lib\\site-packages (from requests>=2.14.0->pygithub->getorg) (3.0.4)\n",
      "Requirement not upgraded as not directly required: idna<2.7,>=2.5 in c:\\users\\qread\\appdata\\local\\continuum\\anaconda3\\lib\\site-packages (from requests>=2.14.0->pygithub->getorg) (2.6)\n",
      "Requirement not upgraded as not directly required: urllib3<1.23,>=1.21.1 in c:\\users\\qread\\appdata\\local\\continuum\\anaconda3\\lib\\site-packages (from requests>=2.14.0->pygithub->getorg) (1.22)\n",
      "Requirement not upgraded as not directly required: certifi>=2017.4.17 in c:\\users\\qread\\appdata\\local\\continuum\\anaconda3\\lib\\site-packages (from requests>=2.14.0->pygithub->getorg) (2018.4.16)\n",
      "Requirement not upgraded as not directly required: wrapt<2,>=1 in c:\\users\\qread\\appdata\\local\\continuum\\anaconda3\\lib\\site-packages (from Deprecated->pygithub->getorg) (1.10.11)\n"
     ]
    },
    {
     "name": "stderr",
     "output_type": "stream",
     "text": [
      "You are using pip version 10.0.1, however version 19.0.3 is available.\n",
      "You should consider upgrading via the 'python -m pip install --upgrade pip' command.\n"
     ]
    }
   ],
   "source": [
    "!pip install getorg --upgrade\n",
    "import glob\n",
    "import getorg\n",
    "from geopy import Nominatim\n",
    "import os\n",
    "os.chdir('_talks')"
   ]
  },
  {
   "cell_type": "code",
   "execution_count": 12,
   "metadata": {},
   "outputs": [
    {
     "data": {
      "text/plain": [
       "9"
      ]
     },
     "execution_count": 12,
     "metadata": {},
     "output_type": "execute_result"
    }
   ],
   "source": [
    "g = glob.glob(\"*.md\")\n",
    "len(g)"
   ]
  },
  {
   "cell_type": "code",
   "execution_count": 13,
   "metadata": {},
   "outputs": [
    {
     "name": "stderr",
     "output_type": "stream",
     "text": [
      "C:\\Users\\qread\\AppData\\Local\\Continuum\\anaconda3\\lib\\site-packages\\ipykernel_launcher.py:1: DeprecationWarning: Using Nominatim with the default \"geopy/1.18.1\" `user_agent` is strongly discouraged, as it violates Nominatim's ToS https://operations.osmfoundation.org/policies/nominatim/ and may possibly cause 403 and 429 HTTP errors. Please specify a custom `user_agent` with `Nominatim(user_agent=\"my-application\")` or by overriding the default `user_agent`: `geopy.geocoders.options.default_user_agent = \"my-application\"`. In geopy 2.0 this will become an exception.\n",
      "  \"\"\"Entry point for launching an IPython kernel.\n"
     ]
    }
   ],
   "source": [
    "geocoder = Nominatim()\n",
    "location_dict = {}\n",
    "location = \"\"\n",
    "permalink = \"\"\n",
    "title = \"\""
   ]
  },
  {
   "cell_type": "code",
   "execution_count": 14,
   "metadata": {},
   "outputs": [
    {
     "name": "stdout",
     "output_type": "stream",
     "text": [
      "Oak Ridge, Tennessee \n",
      " Oak Ridge, Anderson County, Tennessee, USA\n",
      "Gothic, Colorado \n",
      " Gothic, Gunnison County, Colorado, USA\n",
      "Notre Dame, Indiana \n",
      " University of Notre Dame du Lac, Holy Cross Drive, Notre Dame, Maple Lane, Saint Joseph County, Indiana, 46556, USA\n",
      "Baltimore, Maryland \n",
      " Baltimore, Maryland, 21203, USA\n",
      "East Lansing, Michigan \n",
      " East Lansing, Ingham County, Michigan, USA\n",
      "Boulder, Colorado \n",
      " Boulder, Boulder County, Colorado, USA\n",
      "Portland, Oregon \n",
      " Portland, Multnomah County, Oregon, USA\n",
      "Chicago, Illinois \n",
      " Chicago, Cook County, Illinois, USA\n",
      "Arlington, Virginia \n",
      " Arlington, Arlington County, Virginia, USA\n"
     ]
    }
   ],
   "source": [
    "\n",
    "for file in g:\n",
    "    with open(file, 'r') as f:\n",
    "        lines = f.read()\n",
    "        if lines.find('location: \"') > 1:\n",
    "            loc_start = lines.find('location: \"') + 11\n",
    "            lines_trim = lines[loc_start:]\n",
    "            loc_end = lines_trim.find('\"')\n",
    "            location = lines_trim[:loc_end]\n",
    "                            \n",
    "           \n",
    "        location_dict[location] = geocoder.geocode(location)\n",
    "        print(location, \"\\n\", location_dict[location])\n"
   ]
  },
  {
   "cell_type": "code",
   "execution_count": 15,
   "metadata": {},
   "outputs": [
    {
     "data": {
      "text/plain": [
       "'Written map to ../talkmap/'"
      ]
     },
     "execution_count": 15,
     "metadata": {},
     "output_type": "execute_result"
    }
   ],
   "source": [
    "m = getorg.orgmap.create_map_obj()\n",
    "getorg.orgmap.output_html_cluster_map(location_dict, folder_name=\"../talkmap\", hashed_usernames=False)"
   ]
  },
  {
   "cell_type": "code",
   "execution_count": null,
   "metadata": {
    "collapsed": true
   },
   "outputs": [],
   "source": []
  }
 ],
 "metadata": {
  "anaconda-cloud": {},
  "kernelspec": {
   "display_name": "Python 3",
   "language": "python",
   "name": "python3"
  },
  "language_info": {
   "codemirror_mode": {
    "name": "ipython",
    "version": 3
   },
   "file_extension": ".py",
   "mimetype": "text/x-python",
   "name": "python",
   "nbconvert_exporter": "python",
   "pygments_lexer": "ipython3",
   "version": "3.6.5"
  }
 },
 "nbformat": 4,
 "nbformat_minor": 1
}
