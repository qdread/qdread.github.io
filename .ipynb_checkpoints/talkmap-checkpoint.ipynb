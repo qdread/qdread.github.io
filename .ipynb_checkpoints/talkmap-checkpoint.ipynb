{
 "cells": [
  {
   "cell_type": "markdown",
   "metadata": {},
   "source": [
    "# Leaflet cluster map of talk locations\n",
    "\n",
    "Run this from the _talks/ directory, which contains .md files of all your talks. This scrapes the location YAML field from each .md file, geolocates it with geopy/Nominatim, and uses the getorg library to output data, HTML, and Javascript for a standalone cluster map."
   ]
  },
  {
   "cell_type": "code",
   "execution_count": 1,
   "metadata": {},
   "outputs": [
    {
     "name": "stderr",
     "output_type": "stream",
     "text": [
      "WARNING: You are using pip version 21.2.3; however, version 23.3.2 is available.\n",
      "You should consider upgrading via the 'C:\\Program Files\\Python310\\python.exe -m pip install --upgrade pip' command.\n"
     ]
    },
    {
     "name": "stdout",
     "output_type": "stream",
     "text": [
      "Defaulting to user installation because normal site-packages is not writeable\n",
      "Requirement already satisfied: getorg in c:\\users\\qdread\\appdata\\roaming\\python\\python310\\site-packages (0.3.1)\n",
      "Requirement already satisfied: pygithub in c:\\users\\qdread\\appdata\\roaming\\python\\python310\\site-packages (from getorg) (1.55)\n",
      "Requirement already satisfied: retrying in c:\\users\\qdread\\appdata\\roaming\\python\\python310\\site-packages (from getorg) (1.3.3)\n",
      "Requirement already satisfied: geopy in c:\\users\\qdread\\appdata\\roaming\\python\\python310\\site-packages (from getorg) (2.2.0)\n",
      "Requirement already satisfied: geographiclib<2,>=1.49 in c:\\users\\qdread\\appdata\\roaming\\python\\python310\\site-packages (from geopy->getorg) (1.52)\n",
      "Requirement already satisfied: deprecated in c:\\users\\qdread\\appdata\\roaming\\python\\python310\\site-packages (from pygithub->getorg) (1.2.13)\n",
      "Requirement already satisfied: pynacl>=1.4.0 in c:\\users\\qdread\\appdata\\roaming\\python\\python310\\site-packages (from pygithub->getorg) (1.5.0)\n",
      "Requirement already satisfied: pyjwt>=2.0 in c:\\users\\qdread\\appdata\\roaming\\python\\python310\\site-packages (from pygithub->getorg) (2.3.0)\n",
      "Requirement already satisfied: requests>=2.14.0 in c:\\users\\qdread\\appdata\\roaming\\python\\python310\\site-packages (from pygithub->getorg) (2.27.1)\n",
      "Requirement already satisfied: cffi>=1.4.1 in c:\\users\\qdread\\appdata\\roaming\\python\\python310\\site-packages (from pynacl>=1.4.0->pygithub->getorg) (1.15.0)\n",
      "Requirement already satisfied: pycparser in c:\\users\\qdread\\appdata\\roaming\\python\\python310\\site-packages (from cffi>=1.4.1->pynacl>=1.4.0->pygithub->getorg) (2.21)\n",
      "Requirement already satisfied: idna<4,>=2.5 in c:\\users\\qdread\\appdata\\roaming\\python\\python310\\site-packages (from requests>=2.14.0->pygithub->getorg) (3.3)\n",
      "Requirement already satisfied: certifi>=2017.4.17 in c:\\users\\qdread\\appdata\\roaming\\python\\python310\\site-packages (from requests>=2.14.0->pygithub->getorg) (2021.10.8)\n",
      "Requirement already satisfied: urllib3<1.27,>=1.21.1 in c:\\users\\qdread\\appdata\\roaming\\python\\python310\\site-packages (from requests>=2.14.0->pygithub->getorg) (1.26.9)\n",
      "Requirement already satisfied: charset-normalizer~=2.0.0 in c:\\users\\qdread\\appdata\\roaming\\python\\python310\\site-packages (from requests>=2.14.0->pygithub->getorg) (2.0.12)\n",
      "Requirement already satisfied: wrapt<2,>=1.10 in c:\\users\\qdread\\appdata\\roaming\\python\\python310\\site-packages (from deprecated->pygithub->getorg) (1.14.0)\n",
      "Requirement already satisfied: six>=1.7.0 in c:\\users\\qdread\\appdata\\roaming\\python\\python310\\site-packages (from retrying->getorg) (1.16.0)\n",
      "Iywidgets and ipyleaflet support disabled. You must be in a Jupyter notebook to use this feature.\n",
      "Error raised:\n",
      "No module named 'ipyleaflet'\n",
      "Check that you have enabled ipyleaflet in Jupyter with:\n",
      "    jupyter nbextension enable --py ipyleaflet\n"
     ]
    }
   ],
   "source": [
    "!pip install getorg --upgrade\n",
    "import glob\n",
    "import getorg\n",
    "from geopy import Nominatim\n",
    "import os\n",
    "os.chdir('C:/Users/qdread/Documents/GitHub/qdread.github.io/_talks')"
   ]
  },
  {
   "cell_type": "code",
   "execution_count": 2,
   "metadata": {},
   "outputs": [
    {
     "data": {
      "text/plain": [
       "19"
      ]
     },
     "execution_count": 2,
     "metadata": {},
     "output_type": "execute_result"
    }
   ],
   "source": [
    "g = glob.glob(\"*.md\")\n",
    "len(g)"
   ]
  },
  {
   "cell_type": "code",
   "execution_count": 3,
   "metadata": {},
   "outputs": [],
   "source": [
    "geocoder = Nominatim(user_agent = \"qdrsite\")\n",
    "location_dict = {}\n",
    "location = \"\"\n",
    "permalink = \"\"\n",
    "title = \"\""
   ]
  },
  {
   "cell_type": "code",
   "execution_count": 4,
   "metadata": {},
   "outputs": [
    {
     "name": "stdout",
     "output_type": "stream",
     "text": [
      "Oak Ridge, Tennessee \n",
      " Oak Ridge, Anderson County, East Tennessee, Tennessee, United States\n",
      "Gothic, Colorado \n",
      " Gothic, Gunnison County, Colorado, United States\n",
      "Notre Dame, Indiana \n",
      " University of Notre Dame du Lac, Ironwood Road, Notre Dame, Saint Joseph County, Indiana, 46556, United States\n",
      "Baltimore, Maryland \n",
      " Baltimore, Maryland, United States\n",
      "East Lansing, Michigan \n",
      " East Lansing, Ingham County, Michigan, United States\n",
      "Boulder, Colorado \n",
      " Boulder, Boulder County, Colorado, United States\n",
      "Portland, Oregon \n",
      " Portland, Multnomah County, Oregon, United States\n",
      "Leipzig, Germany \n",
      " Leipzig, Sachsen, Deutschland\n",
      "Chicago, Illinois \n",
      " Chicago, Cook County, Illinois, United States\n",
      "Arlington, Virginia \n",
      " Arlington, Arlington County, Virginia, United States\n",
      "Louisville, Kentucky \n",
      " Louisville, Jefferson County, Kentucky, United States\n",
      "Durham, North Carolina \n",
      " Durham, Durham County, North Carolina, United States\n",
      "Washington, DC \n",
      " Washington, District of Columbia, United States\n",
      "Raleigh, North Carolina \n",
      " Raleigh, Wake County, North Carolina, United States\n",
      "West Lafayette, Indiana \n",
      " West Lafayette, Tippecanoe County, Indiana, United States\n",
      "Athens, Georgia \n",
      " Athens-Clarke County Unified Government, Athens-Clarke County, Georgia, United States\n",
      "Raleigh, North Carolina \n",
      " Raleigh, Wake County, North Carolina, United States\n",
      "Little Rock, Arkansas \n",
      " Little Rock, Pulaski County, Arkansas, United States\n",
      "Stuttgart, Arkansas \n",
      " Stuttgart, Arkansas County, Arkansas, 72160, United States\n"
     ]
    }
   ],
   "source": [
    "\n",
    "for file in g:\n",
    "    with open(file, 'r') as f:\n",
    "        lines = f.read()\n",
    "        if lines.find('location: \"') > 1:\n",
    "            loc_start = lines.find('location: \"') + 11\n",
    "            lines_trim = lines[loc_start:]\n",
    "            loc_end = lines_trim.find('\"')\n",
    "            location = lines_trim[:loc_end]\n",
    "                            \n",
    "           \n",
    "        location_dict[location] = geocoder.geocode(location)\n",
    "        print(location, \"\\n\", location_dict[location])\n"
   ]
  },
  {
   "cell_type": "code",
   "execution_count": 5,
   "metadata": {},
   "outputs": [
    {
     "data": {
      "text/plain": [
       "'Written map to ../talkmap/'"
      ]
     },
     "execution_count": 5,
     "metadata": {},
     "output_type": "execute_result"
    }
   ],
   "source": [
    "m = getorg.orgmap.create_map_obj()\n",
    "getorg.orgmap.output_html_cluster_map(location_dict, folder_name=\"../talkmap\", hashed_usernames=False)"
   ]
  },
  {
   "cell_type": "code",
   "execution_count": null,
   "metadata": {
    "collapsed": true,
    "jupyter": {
     "outputs_hidden": true
    }
   },
   "outputs": [],
   "source": []
  }
 ],
 "metadata": {
  "anaconda-cloud": {},
  "kernelspec": {
   "display_name": "Python 3 (ipykernel)",
   "language": "python",
   "name": "python3"
  },
  "language_info": {
   "codemirror_mode": {
    "name": "ipython",
    "version": 3
   },
   "file_extension": ".py",
   "mimetype": "text/x-python",
   "name": "python",
   "nbconvert_exporter": "python",
   "pygments_lexer": "ipython3",
   "version": "3.10.0"
  }
 },
 "nbformat": 4,
 "nbformat_minor": 4
}
