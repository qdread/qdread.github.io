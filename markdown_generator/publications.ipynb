{
 "cells": [
  {
   "cell_type": "markdown",
   "metadata": {},
   "source": [
    "# Publications markdown generator for academicpages\n",
    "\n",
    "Takes a TSV of publications with metadata and converts them for use with [academicpages.github.io](academicpages.github.io). This is an interactive Jupyter notebook ([see more info here](http://jupyter-notebook-beginner-guide.readthedocs.io/en/latest/what_is_jupyter.html)). The core python code is also in `publications.py`. Run either from the `markdown_generator` folder after replacing `publications.tsv` with one containing your data.\n",
    "\n",
    "TODO: Make this work with BibTex and other databases of citations, rather than Stuart's non-standard TSV format and citation style.\n"
   ]
  },
  {
   "cell_type": "markdown",
   "metadata": {},
   "source": [
    "## Data format\n",
    "\n",
    "The TSV needs to have the following columns: pub_date, title, venue, excerpt, citation, site_url, and paper_url, with a header at the top. \n",
    "\n",
    "- `excerpt` and `paper_url` can be blank, but the others must have values. \n",
    "- `pub_date` must be formatted as YYYY-MM-DD.\n",
    "- `url_slug` will be the descriptive part of the .md file and the permalink URL for the page about the paper. The .md file will be `YYYY-MM-DD-[url_slug].md` and the permalink will be `https://[yourdomain]/publications/YYYY-MM-DD-[url_slug]`\n",
    "\n",
    "This is how the raw file looks (it doesn't look pretty, use a spreadsheet or other program to edit and create)."
   ]
  },
  {
   "cell_type": "code",
   "execution_count": 5,
   "metadata": {},
   "outputs": [
    {
     "name": "stdout",
     "output_type": "stream",
     "text": [
      "pub_date\ttitle\tvenue\texcerpt\tcitation\turl_slug\tpaper_url\n",
      "2022-11-11\tTopographic wetness index as a proxy for soil moisture in a hillslope catena: flow algorithms and map generalization\tOpen access! \"Winzeler, H. E., P. R. Owens, Q. D. Read, Z. Libohova, A. Ashworth, and T. Sauer. 2022. Topographic wetness index as a proxy for soil moisture in a hillslope catena: flow algorithms and map generalization. Land 11:2018. DOI: 10.3390/land11112018.\"\twinzeler-et-al-2022\thttps://doi.org/10.3390/land11112018\n",
      "2022-10-18\tIntegrating natural gradients, experiments, and statistical modelling in a distributed network experiment: an example from the WaRM Network\tEcology and Evolution\tOpen access!\t\"Prager, C. M., A. T. Classen, M. K. Sundqvist, M. N. Barrios-Garcia, E. K. Cameron, L. Chen, C. Chisholm, T. W. Crowther, J. R. Deslippe, K. Grigulis, J.-S. He, J. A. Henning, M. Hovenden, T. T. HA,ye, X. Jing, S. Lavorel, J. R. McLaren, D. B. Metcalfe, G. S. Newman, M. L. Nielsen, C. Rixen, Q. D. Read, K. E. Rewcastle, M. Rodriguez-Cabal, D. A. Wardle, S. Wipf, and N. J. Sanders. Integrating natural gradients, experiments, and statistical modelling in a distributed network experiment: an example from the WaRM Network. Ecology and Evolution 12:e9396. DOI: 10.1002/ece3.9396.\"\tprager-et-al-2022\thttps://doi.org/10.1002/ece3.9396\n",
      "2022-09-10\tAccuracy of genomic prediction of yield and sugar traits in *Saccharum* spp. hybrids\tAgriculture\tOpen access!\t\"Islam, Md. S., P. McCord, Q. D. Read, L. Qin, A. E. Lipka, S. Sood, J. Todd, and M. Olatoye. 2022. Accuracy of genomic prediction of yield and sugar traits in *Saccharum* spp. hybrids. Agriculture 12:1436. DOI: 10.3390/agriculture12091436.\"\tislam-et-al-2022\thttps://doi.org/10.3390/agriculture12091436\n",
      "2022-09-09\tPotential of silicon to improve biological control of fall armyworm (*Spodoptera frugiperda*) on maize\tAgriculture\tOpen access!\t\"Zimba, K. J., Q. D. Read, M. Haseeb, R. L. Meagher, and J. C. Legaspi. 2022. Potential of silicon to improve biological control of fall armyworm (*Spodoptera frugiperda*) on maize. Agriculture 12:1432. DOI: 10.3390/agriculture12091432.\"\tzimba-et-al-2022\thttps://doi.org/10.3390/agriculture12091432\n"
     ]
    }
   ],
   "source": [
    "!Powershell.exe -Command type publications.tsv -Head 5"
   ]
  },
  {
   "cell_type": "markdown",
   "metadata": {},
   "source": [
    "## Import pandas\n",
    "\n",
    "We are using the very handy pandas library for dataframes."
   ]
  },
  {
   "cell_type": "code",
   "execution_count": 6,
   "metadata": {},
   "outputs": [],
   "source": [
    "import pandas as pd"
   ]
  },
  {
   "cell_type": "markdown",
   "metadata": {},
   "source": [
    "## Import TSV\n",
    "\n",
    "Pandas makes this easy with the read_csv function. We are using a TSV, so we specify the separator as a tab, or `\\t`.\n",
    "\n",
    "I found it important to put this data in a tab-separated values format, because there are a lot of commas in this kind of data and comma-separated values can get messed up. However, you can modify the import statement, as pandas also has read_excel(), read_json(), and others."
   ]
  },
  {
   "cell_type": "code",
   "execution_count": 19,
   "metadata": {},
   "outputs": [
    {
     "data": {
      "text/html": [
       "<div>\n",
       "<style scoped>\n",
       "    .dataframe tbody tr th:only-of-type {\n",
       "        vertical-align: middle;\n",
       "    }\n",
       "\n",
       "    .dataframe tbody tr th {\n",
       "        vertical-align: top;\n",
       "    }\n",
       "\n",
       "    .dataframe thead th {\n",
       "        text-align: right;\n",
       "    }\n",
       "</style>\n",
       "<table border=\"1\" class=\"dataframe\">\n",
       "  <thead>\n",
       "    <tr style=\"text-align: right;\">\n",
       "      <th></th>\n",
       "      <th>pub_date</th>\n",
       "      <th>title</th>\n",
       "      <th>venue</th>\n",
       "      <th>excerpt</th>\n",
       "      <th>citation</th>\n",
       "      <th>url_slug</th>\n",
       "      <th>paper_url</th>\n",
       "    </tr>\n",
       "  </thead>\n",
       "  <tbody>\n",
       "    <tr>\n",
       "      <th>0</th>\n",
       "      <td>2022-11-11</td>\n",
       "      <td>Topographic wetness index as a proxy for soil ...</td>\n",
       "      <td>Land</td>\n",
       "      <td>Open access!</td>\n",
       "      <td>Winzeler, H. E., P. R. Owens, Q. D. Read, Z. L...</td>\n",
       "      <td>winzeler-et-al-2022</td>\n",
       "      <td>https://doi.org/10.3390/land11112018</td>\n",
       "    </tr>\n",
       "    <tr>\n",
       "      <th>1</th>\n",
       "      <td>2022-10-18</td>\n",
       "      <td>Integrating natural gradients, experiments, an...</td>\n",
       "      <td>Ecology and Evolution</td>\n",
       "      <td>Open access!</td>\n",
       "      <td>Prager, C. M., A. T. Classen, M. K. Sundqvist,...</td>\n",
       "      <td>prager-et-al-2022</td>\n",
       "      <td>https://doi.org/10.1002/ece3.9396</td>\n",
       "    </tr>\n",
       "    <tr>\n",
       "      <th>2</th>\n",
       "      <td>2022-09-10</td>\n",
       "      <td>Accuracy of genomic prediction of yield and su...</td>\n",
       "      <td>Agriculture</td>\n",
       "      <td>Open access!</td>\n",
       "      <td>Islam, Md. S., P. McCord, Q. D. Read, L. Qin, ...</td>\n",
       "      <td>islam-et-al-2022</td>\n",
       "      <td>https://doi.org/10.3390/agriculture12091436</td>\n",
       "    </tr>\n",
       "    <tr>\n",
       "      <th>3</th>\n",
       "      <td>2022-09-09</td>\n",
       "      <td>Potential of silicon to improve biological con...</td>\n",
       "      <td>Agriculture</td>\n",
       "      <td>Open access!</td>\n",
       "      <td>Zimba, K. J., Q. D. Read, M. Haseeb, R. L. Mea...</td>\n",
       "      <td>zimba-et-al-2022</td>\n",
       "      <td>https://doi.org/10.3390/agriculture12091432</td>\n",
       "    </tr>\n",
       "    <tr>\n",
       "      <th>4</th>\n",
       "      <td>2022-08-27</td>\n",
       "      <td>Dasymetric population mapping based on US Cens...</td>\n",
       "      <td>Scientific Data</td>\n",
       "      <td>Open access!</td>\n",
       "      <td>Swanwick, R. H., Q. D. Read, S. M. Guinn, M. A...</td>\n",
       "      <td>swanwick-et-al-2022</td>\n",
       "      <td>https://doi.org/10.1038/s41597-022-01603-z</td>\n",
       "    </tr>\n",
       "  </tbody>\n",
       "</table>\n",
       "</div>"
      ],
      "text/plain": [
       "     pub_date                                              title  \\\n",
       "0  2022-11-11  Topographic wetness index as a proxy for soil ...   \n",
       "1  2022-10-18  Integrating natural gradients, experiments, an...   \n",
       "2  2022-09-10  Accuracy of genomic prediction of yield and su...   \n",
       "3  2022-09-09  Potential of silicon to improve biological con...   \n",
       "4  2022-08-27  Dasymetric population mapping based on US Cens...   \n",
       "\n",
       "                   venue       excerpt  \\\n",
       "0                   Land  Open access!   \n",
       "1  Ecology and Evolution  Open access!   \n",
       "2            Agriculture  Open access!   \n",
       "3            Agriculture  Open access!   \n",
       "4        Scientific Data  Open access!   \n",
       "\n",
       "                                            citation             url_slug  \\\n",
       "0  Winzeler, H. E., P. R. Owens, Q. D. Read, Z. L...  winzeler-et-al-2022   \n",
       "1  Prager, C. M., A. T. Classen, M. K. Sundqvist,...    prager-et-al-2022   \n",
       "2  Islam, Md. S., P. McCord, Q. D. Read, L. Qin, ...     islam-et-al-2022   \n",
       "3  Zimba, K. J., Q. D. Read, M. Haseeb, R. L. Mea...     zimba-et-al-2022   \n",
       "4  Swanwick, R. H., Q. D. Read, S. M. Guinn, M. A...  swanwick-et-al-2022   \n",
       "\n",
       "                                     paper_url  \n",
       "0         https://doi.org/10.3390/land11112018  \n",
       "1            https://doi.org/10.1002/ece3.9396  \n",
       "2  https://doi.org/10.3390/agriculture12091436  \n",
       "3  https://doi.org/10.3390/agriculture12091432  \n",
       "4   https://doi.org/10.1038/s41597-022-01603-z  "
      ]
     },
     "execution_count": 19,
     "metadata": {},
     "output_type": "execute_result"
    }
   ],
   "source": [
    "publications = pd.read_csv(\"publications.tsv\", sep=\"\\t\", header=0)\n",
    "publications.head()\n"
   ]
  },
  {
   "cell_type": "markdown",
   "metadata": {},
   "source": [
    "## Escape special characters\n",
    "\n",
    "YAML is very picky about how it takes a valid string, so we are replacing single and double quotes (and ampersands) with their HTML encoded equivilents. This makes them look not so readable in raw format, but they are parsed and rendered nicely."
   ]
  },
  {
   "cell_type": "code",
   "execution_count": 15,
   "metadata": {},
   "outputs": [],
   "source": [
    "html_escape_table = {\n",
    "    \"&\": \"&amp;\",\n",
    "    '\"': \"&quot;\",\n",
    "    \"'\": \"&apos;\"\n",
    "    }\n",
    "\n",
    "def html_escape(text):\n",
    "    \"\"\"Produce entities within text.\"\"\"\n",
    "    return \"\".join(html_escape_table.get(c,c) for c in text)"
   ]
  },
  {
   "cell_type": "code",
   "execution_count": 20,
   "metadata": {},
   "outputs": [
    {
     "data": {
      "text/plain": [
       "'0     2022-11-11\\n1     2022-10-18\\n2     2022-09-10\\n3     2022-09-09\\n4     2022-08-27\\n5     2022-05-13\\n6     2022-05-01\\n7     2022-04-15\\n8     2022-04-04\\n9     2022-03-12\\n10    2022-01-03\\n11    2021-06-21\\n12    2021-04-20\\n13    2021-04-01\\n14    2021-02-02\\n15    2021-01-20\\n16    2020-06-23\\n17    2020-06-01\\n18    2020-01-24\\n19    2020-01-14\\n20    2019-07-16\\n21    2019-02-27\\n22    2019-03-12\\n23    2018-10-20\\n24    2018-10-01\\n25    2018-01-24\\n26    2018-03-06\\n27    2018-05-01\\n28    2017-09-01\\n29    2017-07-01\\n30    2017-12-29\\n31    2016-07-01\\n32    2016-07-01\\n33    2016-08-01\\n34    2015-09-01\\n35    2014-02-01\\n36    2013-12-07\\n37    2013-11-12\\n38    2012-02-29\\nName: pub_date, dtype: object'"
      ]
     },
     "execution_count": 20,
     "metadata": {},
     "output_type": "execute_result"
    }
   ],
   "source": [
    "# Some test code to see what the filename would be\n",
    "# Looks like excel messed it up.\n",
    "str(publications['pub_date'])"
   ]
  },
  {
   "cell_type": "markdown",
   "metadata": {},
   "source": [
    "## Creating the markdown files\n",
    "\n",
    "This is where the heavy lifting is done. This loops through all the rows in the TSV dataframe, then starts to concatentate a big string (```md```) that contains the markdown for each type. It does the YAML metadata first, then does the description for the individual page."
   ]
  },
  {
   "cell_type": "code",
   "execution_count": 21,
   "metadata": {},
   "outputs": [],
   "source": [
    "import os\n",
    "for row, item in publications.iterrows():\n",
    "    \n",
    "    md_filename = str(item.pub_date) + \"-\" + item.url_slug + \".md\"\n",
    "    html_filename = str(item.pub_date) + \"-\" + item.url_slug\n",
    "    year = str(item.pub_date)[:4]\n",
    "    \n",
    "    ## YAML variables\n",
    "    \n",
    "    md = \"---\\ntitle: \\\"\"   + item.title + '\"\\n'\n",
    "    \n",
    "    md += \"\"\"collection: publications\"\"\"\n",
    "    \n",
    "    md += \"\"\"\\npermalink: /publication/\"\"\" + html_filename\n",
    "    \n",
    "    if len(str(item.excerpt)) > 5:\n",
    "        md += \"\\nexcerpt: '\" + html_escape(item.excerpt) + \"'\"\n",
    "    \n",
    "    md += \"\\ndate: \" + str(item.pub_date) \n",
    "    \n",
    "    md += \"\\nvenue: '\" + html_escape(item.venue) + \"'\"\n",
    "    \n",
    "    if len(str(item.paper_url)) > 5:\n",
    "        md += \"\\npaperurl: '\" + item.paper_url + \"'\"\n",
    "    \n",
    "    md += \"\\ncitation: '\" + html_escape(item.citation) + \"'\"\n",
    "    \n",
    "    md += \"\\n---\"\n",
    "    \n",
    "    ## Markdown description for individual page\n",
    "        \n",
    "    if len(str(item.excerpt)) > 5:\n",
    "        md += \"\\n\" + html_escape(item.excerpt) + \"\\n\"\n",
    "    \n",
    "    if len(str(item.paper_url)) > 5:\n",
    "        md += \"\\n[Download paper here](\" + item.paper_url + \")\\n\" \n",
    "        \n",
    "    ##md += \"\\nRecommended citation: \" + item.citation\n",
    "    \n",
    "    md_filename = os.path.basename(md_filename)\n",
    "       \n",
    "    with open(\"../_publications/\" + md_filename, 'w') as f:\n",
    "        f.write(md)"
   ]
  },
  {
   "cell_type": "markdown",
   "metadata": {},
   "source": [
    "These files are in the publications directory, one directory below where we're working from."
   ]
  },
  {
   "cell_type": "code",
   "execution_count": 22,
   "metadata": {},
   "outputs": [
    {
     "name": "stdout",
     "output_type": "stream",
     "text": [
      "Microsoft Windows [Version 10.0.19042.2130]\n",
      "(c) Microsoft Corporation. All rights reserved.\n",
      "\n",
      "C:\\Users\\qdread\\Documents\\GitHub\\qdread.github.io\\markdown_generator>dir ..\\_publications\\\n",
      " Volume in drive C has no label.\n",
      " Volume Serial Number is 08D0-A2BB\n",
      "\n",
      " Directory of C:\\Users\\qdread\\Documents\\GitHub\\qdread.github.io\\_publications\n",
      "\n",
      "11/11/2022  10:35 AM    <DIR>          .\n",
      "11/11/2022  10:35 AM    <DIR>          ..\n",
      "11/11/2022  10:35 AM               724 2012-02-29-clark-et-al-2012.md\n",
      "11/11/2022  10:35 AM               708 2013-11-12-vannuland-et-al-2013.md\n",
      "11/11/2022  10:35 AM               776 2013-12-07-gorman-et-al-2013.md\n",
      "11/11/2022  10:35 AM               871 2014-02-01-read-et-al-2014-functional-ecology.md\n",
      "11/11/2022  10:35 AM               741 2015-09-01-schussler-et-al-2015.md\n",
      "11/11/2022  10:35 AM               806 2016-07-01-read-et-al-2016-oikos.md\n",
      "11/11/2022  10:35 AM               682 2016-07-01-vannuland-et-al-2016.md\n",
      "11/11/2022  10:35 AM               773 2016-08-01-yoon-and-read-2016.md\n",
      "11/11/2022  10:35 AM               817 2017-07-01-hendershot-et-al-2017.md\n",
      "11/11/2022  10:35 AM               648 2017-09-01-read-et-al-2017-j-veg-sci.md\n",
      "11/11/2022  10:35 AM               574 2017-12-29-butler-et-al-2017.md\n",
      "11/11/2022  10:35 AM               589 2018-01-24-read-et-al-2018-biology-letters.md\n",
      "11/11/2022  10:35 AM               676 2018-03-06-read-et-al-2018-j-plant-ecology.md\n",
      "11/11/2022  10:35 AM               684 2018-05-01-welshofer-et-al-2018.md\n",
      "11/11/2022  10:35 AM               749 2018-10-01-read-et-al-2018-ecography.md\n",
      "11/11/2022  10:35 AM               669 2018-10-20-grady-et-al-2018.md\n",
      "11/11/2022  10:35 AM               801 2019-02-27-zarnetske-et-al-2019.md\n",
      "11/11/2022  10:35 AM               696 2019-03-12-henning-et-al-2019.md\n",
      "11/11/2022  10:35 AM               906 2019-07-16-muth-et-al-2019.md\n",
      "11/11/2022  10:35 AM               796 2020-01-14-read-et-al-2020-sci-tot-env.md\n",
      "11/11/2022  10:35 AM               662 2020-01-24-read-et-al-2020-global-ecol-biogeog.md\n",
      "11/11/2022  10:35 AM             1,130 2020-06-01-record-et-al-2020-remote-sensing-of-biodiversity.md\n",
      "11/11/2022  10:35 AM               687 2020-06-23-grady-et-al-2020-biorxiv.md\n",
      "11/11/2022  10:35 AM               581 2021-01-20-metson-et-al-2021-oneearth.md\n",
      "11/11/2022  10:35 AM               666 2021-02-02-read-and-muth-2021.md\n",
      "11/11/2022  10:35 AM               468 2021-04-01-marston-et-al-2021.md\n",
      "11/11/2022  10:35 AM               704 2021-04-20-prager-et-al-2021.md\n",
      "11/11/2022  10:35 AM               802 2021-06-21-dahlin-et-al-2021.md\n",
      "11/11/2022  10:35 AM               641 2022-01-03-rewcastle-et-al-2022.md\n",
      "11/11/2022  10:35 AM               647 2022-03-12-sthapit-kandel-et-al-2022.md\n",
      "11/11/2022  10:35 AM             1,870 2022-04-04-read-et-al-2022-pnas.md\n",
      "11/11/2022  10:35 AM             1,079 2022-04-15-mason-et-al-2022.md\n",
      "11/11/2022  10:35 AM               766 2022-05-01-mcintyre-butts-and-read-2022.md\n",
      "11/11/2022  10:35 AM               795 2022-05-13-kamoske-et-al-2022.md\n",
      "11/11/2022  10:35 AM               685 2022-08-27-swanwick-et-al-2022.md\n",
      "11/11/2022  10:35 AM               657 2022-09-09-zimba-et-al-2022.md\n",
      "11/11/2022  10:35 AM               643 2022-09-10-islam-et-al-2022.md\n",
      "11/11/2022  10:35 AM             1,029 2022-10-18-prager-et-al-2022.md\n",
      "11/11/2022  10:35 AM               664 2022-11-11-winzeler-et-al-2022.md\n",
      "              39 File(s)         29,862 bytes\n",
      "               2 Dir(s)  223,393,693,696 bytes free\n",
      "\n",
      "C:\\Users\\qdread\\Documents\\GitHub\\qdread.github.io\\markdown_generator>"
     ]
    }
   ],
   "source": [
    "%%cmd\n",
    "dir ..\\_publications\\"
   ]
  }
 ],
 "metadata": {
  "kernelspec": {
   "display_name": "Python 3 (ipykernel)",
   "language": "python",
   "name": "python3"
  },
  "language_info": {
   "codemirror_mode": {
    "name": "ipython",
    "version": 3
   },
   "file_extension": ".py",
   "mimetype": "text/x-python",
   "name": "python",
   "nbconvert_exporter": "python",
   "pygments_lexer": "ipython3",
   "version": "3.10.0"
  }
 },
 "nbformat": 4,
 "nbformat_minor": 4
}
