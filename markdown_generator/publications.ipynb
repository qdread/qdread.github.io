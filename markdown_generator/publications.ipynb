{
 "cells": [
  {
   "cell_type": "markdown",
   "metadata": {},
   "source": [
    "# Publications markdown generator for academicpages\n",
    "\n",
    "Takes a TSV of publications with metadata and converts them for use with [academicpages.github.io](academicpages.github.io). This is an interactive Jupyter notebook ([see more info here](http://jupyter-notebook-beginner-guide.readthedocs.io/en/latest/what_is_jupyter.html)). The core python code is also in `publications.py`. Run either from the `markdown_generator` folder after replacing `publications.tsv` with one containing your data.\n",
    "\n",
    "TODO: Make this work with BibTex and other databases of citations, rather than Stuart's non-standard TSV format and citation style.\n"
   ]
  },
  {
   "cell_type": "markdown",
   "metadata": {},
   "source": [
    "## Data format\n",
    "\n",
    "The TSV needs to have the following columns: pub_date, title, venue, excerpt, citation, site_url, and paper_url, with a header at the top. \n",
    "\n",
    "- `excerpt` and `paper_url` can be blank, but the others must have values. \n",
    "- `pub_date` must be formatted as YYYY-MM-DD.\n",
    "- `url_slug` will be the descriptive part of the .md file and the permalink URL for the page about the paper. The .md file will be `YYYY-MM-DD-[url_slug].md` and the permalink will be `https://[yourdomain]/publications/YYYY-MM-DD-[url_slug]`\n",
    "\n",
    "This is how the raw file looks (it doesn't look pretty, use a spreadsheet or other program to edit and create)."
   ]
  },
  {
   "cell_type": "code",
   "execution_count": 1,
   "metadata": {},
   "outputs": [
    {
     "name": "stdout",
     "output_type": "stream",
     "text": [
      "pub_date\ttitle\tvenue\texcerpt\tcitation\turl_slug\tpaper_url\n",
      "2024-03-26\tMicrobiota of infants consuming secretors or non-secretors mother's milk impacts the gut and immune system in mice\tmSystems\tOpen access!\t\"Gurung, M., B. T. Schlegel, D. Rajasundaram, R. Fox, L. Bode, T. Yao, S. R. Lindemann, T. LeRoith, Q. D. Read, C. Simecka, L. Carroll, A. Andres, and L. Yeruva. Microbiota of infants consuming secretors or non-secretors mother's milk impacts the gut and immune system in mice. mSystems e00294-24. DOI: 10.1128/msystems.00294-24.\"\tgurung-et-al-2024\thttps://doi.org/10.1128/msystems.00294-24\n",
      "2024-02-06\tCover crop and crop rotation effects on tissue and soil population dynamics of Macrophomina phaseolina and yield under no-till system\tPlant Disease\t\t\"Mengistu, A., Q. D. Read, V. Sykes, H. Kelly, T. Kharel, and N. Bellaloui. Cover crop and crop rotation effects on tissue and soil population dynamics of Macrophomina phaseolina and yield under no-till system. 2024. Plant Disease 108: 302-310. DOI: 10.1094/PDIS-03-23-0443-RE.\"\tmengistu-et-al-2024\thttps://doi.org/10.1094/PDIS-03-23-0443-RE\n"
     ]
    }
   ],
   "source": [
    "!Powershell.exe -Command type publications.tsv -Head 3"
   ]
  },
  {
   "cell_type": "markdown",
   "metadata": {},
   "source": [
    "## Import pandas\n",
    "\n",
    "We are using the very handy pandas library for dataframes."
   ]
  },
  {
   "cell_type": "code",
   "execution_count": 2,
   "metadata": {},
   "outputs": [],
   "source": [
    "import pandas as pd"
   ]
  },
  {
   "cell_type": "markdown",
   "metadata": {},
   "source": [
    "## Import TSV\n",
    "\n",
    "Pandas makes this easy with the read_csv function. We are using a TSV, so we specify the separator as a tab, or `\\t`.\n",
    "\n",
    "I found it important to put this data in a tab-separated values format, because there are a lot of commas in this kind of data and comma-separated values can get messed up. However, you can modify the import statement, as pandas also has read_excel(), read_json(), and others."
   ]
  },
  {
   "cell_type": "code",
   "execution_count": 3,
   "metadata": {},
   "outputs": [
    {
     "data": {
      "text/html": [
       "<div>\n",
       "<style scoped>\n",
       "    .dataframe tbody tr th:only-of-type {\n",
       "        vertical-align: middle;\n",
       "    }\n",
       "\n",
       "    .dataframe tbody tr th {\n",
       "        vertical-align: top;\n",
       "    }\n",
       "\n",
       "    .dataframe thead th {\n",
       "        text-align: right;\n",
       "    }\n",
       "</style>\n",
       "<table border=\"1\" class=\"dataframe\">\n",
       "  <thead>\n",
       "    <tr style=\"text-align: right;\">\n",
       "      <th></th>\n",
       "      <th>pub_date</th>\n",
       "      <th>title</th>\n",
       "      <th>venue</th>\n",
       "      <th>excerpt</th>\n",
       "      <th>citation</th>\n",
       "      <th>url_slug</th>\n",
       "      <th>paper_url</th>\n",
       "    </tr>\n",
       "  </thead>\n",
       "  <tbody>\n",
       "    <tr>\n",
       "      <th>0</th>\n",
       "      <td>2024-03-26</td>\n",
       "      <td>Microbiota of infants consuming secretors or n...</td>\n",
       "      <td>mSystems</td>\n",
       "      <td>Open access!</td>\n",
       "      <td>Gurung, M., B. T. Schlegel, D. Rajasundaram, R...</td>\n",
       "      <td>gurung-et-al-2024</td>\n",
       "      <td>https://doi.org/10.1128/msystems.00294-24</td>\n",
       "    </tr>\n",
       "    <tr>\n",
       "      <th>1</th>\n",
       "      <td>2024-02-06</td>\n",
       "      <td>Cover crop and crop rotation effects on tissue...</td>\n",
       "      <td>Plant Disease</td>\n",
       "      <td>NaN</td>\n",
       "      <td>Mengistu, A., Q. D. Read, V. Sykes, H. Kelly, ...</td>\n",
       "      <td>mengistu-et-al-2024</td>\n",
       "      <td>https://doi.org/10.1094/PDIS-03-23-0443-RE</td>\n",
       "    </tr>\n",
       "    <tr>\n",
       "      <th>2</th>\n",
       "      <td>2024-02-29</td>\n",
       "      <td>Soybean test weight in relation to genotype, e...</td>\n",
       "      <td>Agronomy Journal</td>\n",
       "      <td>NaN</td>\n",
       "      <td>Koebernick, J., A. Gillen, R. Fett, S. Patel, ...</td>\n",
       "      <td>koebernick-et-al-2024</td>\n",
       "      <td>https://doi.org/10.1002/agj2.21551</td>\n",
       "    </tr>\n",
       "    <tr>\n",
       "      <th>3</th>\n",
       "      <td>2024-02-13</td>\n",
       "      <td>Cultivation and dynamic cropping processes imp...</td>\n",
       "      <td>Landscape Ecology</td>\n",
       "      <td>Open access!</td>\n",
       "      <td>Heintzman, L. J., N. E. McIntyre, E. J. Langen...</td>\n",
       "      <td>heintzman-et-al-2024</td>\n",
       "      <td>https://doi.org/10.1007/s10980-024-01797-0</td>\n",
       "    </tr>\n",
       "    <tr>\n",
       "      <th>4</th>\n",
       "      <td>2024-01-31</td>\n",
       "      <td>Thinking inside the box: Restoring the propoli...</td>\n",
       "      <td>PLoS One</td>\n",
       "      <td>Open access!</td>\n",
       "      <td>Shanahan, M., M. Simone-Finstrom, P. Tokarz, F...</td>\n",
       "      <td>shanahan-et-al-2024</td>\n",
       "      <td>https://doi.org/10.1371/journal.pone.0291744</td>\n",
       "    </tr>\n",
       "  </tbody>\n",
       "</table>\n",
       "</div>"
      ],
      "text/plain": [
       "     pub_date                                              title  \\\n",
       "0  2024-03-26  Microbiota of infants consuming secretors or n...   \n",
       "1  2024-02-06  Cover crop and crop rotation effects on tissue...   \n",
       "2  2024-02-29  Soybean test weight in relation to genotype, e...   \n",
       "3  2024-02-13  Cultivation and dynamic cropping processes imp...   \n",
       "4  2024-01-31  Thinking inside the box: Restoring the propoli...   \n",
       "\n",
       "               venue       excerpt  \\\n",
       "0           mSystems  Open access!   \n",
       "1      Plant Disease           NaN   \n",
       "2   Agronomy Journal           NaN   \n",
       "3  Landscape Ecology  Open access!   \n",
       "4           PLoS One  Open access!   \n",
       "\n",
       "                                            citation               url_slug  \\\n",
       "0  Gurung, M., B. T. Schlegel, D. Rajasundaram, R...      gurung-et-al-2024   \n",
       "1  Mengistu, A., Q. D. Read, V. Sykes, H. Kelly, ...    mengistu-et-al-2024   \n",
       "2  Koebernick, J., A. Gillen, R. Fett, S. Patel, ...  koebernick-et-al-2024   \n",
       "3  Heintzman, L. J., N. E. McIntyre, E. J. Langen...   heintzman-et-al-2024   \n",
       "4  Shanahan, M., M. Simone-Finstrom, P. Tokarz, F...    shanahan-et-al-2024   \n",
       "\n",
       "                                      paper_url  \n",
       "0     https://doi.org/10.1128/msystems.00294-24  \n",
       "1    https://doi.org/10.1094/PDIS-03-23-0443-RE  \n",
       "2            https://doi.org/10.1002/agj2.21551  \n",
       "3    https://doi.org/10.1007/s10980-024-01797-0  \n",
       "4  https://doi.org/10.1371/journal.pone.0291744  "
      ]
     },
     "execution_count": 3,
     "metadata": {},
     "output_type": "execute_result"
    }
   ],
   "source": [
    "publications = pd.read_csv(\"publications.tsv\", sep=\"\\t\", header=0)\n",
    "publications.head()\n"
   ]
  },
  {
   "cell_type": "markdown",
   "metadata": {},
   "source": [
    "## Escape special characters\n",
    "\n",
    "YAML is very picky about how it takes a valid string, so we are replacing single and double quotes (and ampersands) with their HTML encoded equivilents. This makes them look not so readable in raw format, but they are parsed and rendered nicely."
   ]
  },
  {
   "cell_type": "code",
   "execution_count": 4,
   "metadata": {},
   "outputs": [],
   "source": [
    "html_escape_table = {\n",
    "    \"&\": \"&amp;\",\n",
    "    '\"': \"&quot;\",\n",
    "    \"'\": \"&apos;\"\n",
    "    }\n",
    "\n",
    "def html_escape(text):\n",
    "    \"\"\"Produce entities within text.\"\"\"\n",
    "    return \"\".join(html_escape_table.get(c,c) for c in text)"
   ]
  },
  {
   "cell_type": "code",
   "execution_count": 5,
   "metadata": {},
   "outputs": [],
   "source": [
    "# Here, subset the rows of publications to only 1 or however many we need to update right now\n",
    "publications = publications.head(1)"
   ]
  },
  {
   "cell_type": "code",
   "execution_count": 6,
   "metadata": {},
   "outputs": [
    {
     "data": {
      "text/plain": [
       "'0    2024-03-26\\nName: pub_date, dtype: object'"
      ]
     },
     "execution_count": 6,
     "metadata": {},
     "output_type": "execute_result"
    }
   ],
   "source": [
    "# Some test code to see what the filename would be\n",
    "str(publications['pub_date'])"
   ]
  },
  {
   "cell_type": "markdown",
   "metadata": {},
   "source": [
    "## Creating the markdown files\n",
    "\n",
    "This is where the heavy lifting is done. This loops through all the rows in the TSV dataframe, then starts to concatentate a big string (```md```) that contains the markdown for each type. It does the YAML metadata first, then does the description for the individual page."
   ]
  },
  {
   "cell_type": "code",
   "execution_count": 7,
   "metadata": {},
   "outputs": [],
   "source": [
    "import os\n",
    "for row, item in publications.iterrows():\n",
    "    \n",
    "    md_filename = str(item.pub_date) + \"-\" + item.url_slug + \".md\"\n",
    "    html_filename = str(item.pub_date) + \"-\" + item.url_slug\n",
    "    year = str(item.pub_date)[:4]\n",
    "    \n",
    "    ## YAML variables\n",
    "    \n",
    "    md = \"---\\ntitle: \\\"\"   + item.title + '\"\\n'\n",
    "    \n",
    "    md += \"\"\"collection: publications\"\"\"\n",
    "    \n",
    "    md += \"\"\"\\npermalink: /publication/\"\"\" + html_filename\n",
    "    \n",
    "    if len(str(item.excerpt)) > 5:\n",
    "        md += \"\\nexcerpt: '\" + html_escape(item.excerpt) + \"'\"\n",
    "    \n",
    "    md += \"\\ndate: \" + str(item.pub_date) \n",
    "    \n",
    "    md += \"\\nvenue: '\" + html_escape(item.venue) + \"'\"\n",
    "    \n",
    "    if len(str(item.paper_url)) > 5:\n",
    "        md += \"\\npaperurl: '\" + item.paper_url + \"'\"\n",
    "    \n",
    "    md += \"\\ncitation: '\" + html_escape(item.citation) + \"'\"\n",
    "    \n",
    "    md += \"\\n---\"\n",
    "    \n",
    "    ## Markdown description for individual page\n",
    "        \n",
    "    if len(str(item.excerpt)) > 5:\n",
    "        md += \"\\n\" + html_escape(item.excerpt) + \"\\n\"\n",
    "    \n",
    "    if len(str(item.paper_url)) > 5:\n",
    "        md += \"\\n[Download paper here](\" + item.paper_url + \")\\n\" \n",
    "        \n",
    "    ##md += \"\\nRecommended citation: \" + item.citation\n",
    "    \n",
    "    md_filename = os.path.basename(md_filename)\n",
    "       \n",
    "    with open(\"../_publications/\" + md_filename, 'w') as f:\n",
    "        f.write(md)"
   ]
  },
  {
   "cell_type": "markdown",
   "metadata": {},
   "source": [
    "These files are in the publications directory, one directory below where we're working from."
   ]
  },
  {
   "cell_type": "code",
   "execution_count": 7,
   "metadata": {},
   "outputs": [
    {
     "name": "stdout",
     "output_type": "stream",
     "text": [
      "Microsoft Windows [Version 10.0.19045.3930]\n",
      "(c) Microsoft Corporation. All rights reserved.\n",
      "\n",
      "C:\\Users\\qdread\\Documents\\GitHub\\qdread.github.io\\markdown_generator>dir /s /o:-d ..\\_publications\\ \n",
      " Volume in drive C has no label.\n",
      " Volume Serial Number is 08D0-A2BB\n",
      "\n",
      " Directory of C:\\Users\\qdread\\Documents\\GitHub\\qdread.github.io\\_publications\n",
      "\n",
      "02/14/2024  10:26 AM               700 2024-01-31-shanahan-et-al-2024.md\n",
      "02/14/2024  10:26 AM    <DIR>          ..\n",
      "02/14/2024  10:26 AM    <DIR>          .\n",
      "02/14/2024  10:26 AM               869 2024-02-13-heintzman-et-al-2024.md\n",
      "01/31/2024  03:09 PM               787 2024-01-24-shults-et-al-2024.md\n",
      "01/31/2024  03:09 PM               702 2024-01-29-safaee-et-al-2024.md\n",
      "01/18/2024  02:02 PM               548 2024-01-18-grady-et-al-2024.md\n",
      "01/16/2024  09:31 AM               680 2023-12-06-martin-ewert-et-al-2023.md\n",
      "01/16/2024  09:31 AM               640 2024-01-03-little-et-al-2024.md\n",
      "12/27/2023  10:13 AM               777 2023-12-23-halbritter-et-al-2023.md\n",
      "11/11/2023  03:14 PM               596 2023-11-11-penn-and-read-2023.md\n",
      "11/02/2023  08:20 AM               882 2023-11-02-cho-et-al-2023.md\n",
      "10/25/2023  11:57 AM               762 2023-10-20-osei-owusu-et-al-2023.md\n",
      "10/25/2023  07:36 AM             1,137 2020-06-01-record-et-al-2020-remote-sensing-of-biodiversity.md\n",
      "08/01/2023  07:39 AM               546 2023-08-01-balkcom-et-al-2023.md\n",
      "07/22/2023  01:58 PM               791 2023-07-21-degracia-et-al-2023.md\n",
      "06/14/2023  08:56 PM               600 2023-05-19-taliercio-et-al-2023.md\n",
      "06/14/2023  08:56 PM               767 2023-06-12-yeh-et-al-2023.md\n",
      "05/23/2023  04:59 AM               560 2023-05-15-jia-and-read-2023.md\n",
      "04/19/2023  10:38 AM               706 2023-02-01-adeli-et-al-2023.md\n",
      "04/19/2023  10:38 AM               622 2023-02-16-mengistu-et-al-2023.md\n",
      "04/19/2023  10:38 AM               679 2023-03-16-fett-et-al-2023.md\n",
      "04/19/2023  10:38 AM               556 2023-04-11-cowger-et-al-2023.md\n",
      "01/24/2023  08:32 AM               612 2023-01-24-zollota-et-al-2023.md\n",
      "01/19/2023  12:09 PM             1,036 2022-10-18-prager-et-al-2022.md\n",
      "01/19/2023  12:09 PM               591 2021-04-20-prager-et-al-2021.md\n",
      "01/19/2023  12:09 PM               676 2021-02-02-read-and-muth-2021.md\n",
      "01/19/2023  12:09 PM               581 2021-01-20-metson-et-al-2021-oneearth.md\n",
      "01/19/2023  12:09 PM               801 2020-01-14-read-et-al-2020-sci-tot-env.md\n",
      "01/19/2023  12:09 PM               911 2019-07-16-muth-et-al-2019.md\n",
      "01/19/2023  10:58 AM               724 2012-02-29-clark-et-al-2012.md\n",
      "01/19/2023  10:58 AM               708 2013-11-12-vannuland-et-al-2013.md\n",
      "01/19/2023  10:58 AM               871 2014-02-01-read-et-al-2014-functional-ecology.md\n",
      "01/19/2023  10:58 AM               776 2013-12-07-gorman-et-al-2013.md\n",
      "01/19/2023  10:58 AM               741 2015-09-01-schussler-et-al-2015.md\n",
      "01/19/2023  10:58 AM               773 2016-08-01-yoon-and-read-2016.md\n",
      "01/19/2023  10:58 AM               682 2016-07-01-vannuland-et-al-2016.md\n",
      "01/19/2023  10:58 AM               806 2016-07-01-read-et-al-2016-oikos.md\n",
      "01/19/2023  10:58 AM               574 2017-12-29-butler-et-al-2017.md\n",
      "01/19/2023  10:58 AM               817 2017-07-01-hendershot-et-al-2017.md\n",
      "01/19/2023  10:58 AM               648 2017-09-01-read-et-al-2017-j-veg-sci.md\n",
      "01/19/2023  10:58 AM               684 2018-05-01-welshofer-et-al-2018.md\n",
      "01/19/2023  10:58 AM               676 2018-03-06-read-et-al-2018-j-plant-ecology.md\n",
      "01/19/2023  10:58 AM               589 2018-01-24-read-et-al-2018-biology-letters.md\n",
      "01/19/2023  10:58 AM               749 2018-10-01-read-et-al-2018-ecography.md\n",
      "01/19/2023  10:58 AM               669 2018-10-20-grady-et-al-2018.md\n",
      "01/19/2023  10:58 AM               801 2019-02-27-zarnetske-et-al-2019.md\n",
      "01/19/2023  10:58 AM               696 2019-03-12-henning-et-al-2019.md\n",
      "01/19/2023  10:58 AM               662 2020-01-24-read-et-al-2020-global-ecol-biogeog.md\n",
      "01/19/2023  10:58 AM               468 2021-04-01-marston-et-al-2021.md\n",
      "01/19/2023  10:58 AM               802 2021-06-21-dahlin-et-al-2021.md\n",
      "01/19/2023  10:58 AM               641 2022-01-03-rewcastle-et-al-2022.md\n",
      "01/19/2023  10:58 AM               647 2022-03-12-sthapit-kandel-et-al-2022.md\n",
      "01/19/2023  10:58 AM             1,079 2022-04-15-mason-et-al-2022.md\n",
      "01/19/2023  10:58 AM             1,870 2022-04-04-read-et-al-2022-pnas.md\n",
      "01/19/2023  10:58 AM               766 2022-05-01-mcintyre-butts-and-read-2022.md\n",
      "01/19/2023  10:58 AM               795 2022-05-13-kamoske-et-al-2022.md\n",
      "01/19/2023  10:58 AM               685 2022-08-27-swanwick-et-al-2022.md\n",
      "01/19/2023  10:58 AM               657 2022-09-09-zimba-et-al-2022.md\n",
      "01/19/2023  10:58 AM               643 2022-09-10-islam-et-al-2022.md\n",
      "01/19/2023  10:58 AM               664 2022-11-11-winzeler-et-al-2022.md\n",
      "01/19/2023  10:58 AM               632 2022-12-06-allan-et-al-2022.md\n",
      "01/19/2023  10:58 AM               726 2022-12-23-mcmillan-et-al-2023.md\n",
      "01/19/2023  10:58 AM               941 2023-01-12-gurung-et-al-2023.md\n",
      "01/19/2023  10:58 AM               807 2023-01-18-nestle-et-al-2023.md\n",
      "              63 File(s)         46,584 bytes\n",
      "\n",
      "     Total Files Listed:\n",
      "              63 File(s)         46,584 bytes\n",
      "               2 Dir(s)  154,471,030,784 bytes free\n",
      "\n",
      "C:\\Users\\qdread\\Documents\\GitHub\\qdread.github.io\\markdown_generator>"
     ]
    }
   ],
   "source": [
    "%%cmd\n",
    "dir /s /o:-d ..\\_publications\\ "
   ]
  },
  {
   "cell_type": "code",
   "execution_count": null,
   "metadata": {},
   "outputs": [],
   "source": []
  }
 ],
 "metadata": {
  "kernelspec": {
   "display_name": "Python 3 (ipykernel)",
   "language": "python",
   "name": "python3"
  },
  "language_info": {
   "codemirror_mode": {
    "name": "ipython",
    "version": 3
   },
   "file_extension": ".py",
   "mimetype": "text/x-python",
   "name": "python",
   "nbconvert_exporter": "python",
   "pygments_lexer": "ipython3",
   "version": "3.10.0"
  }
 },
 "nbformat": 4,
 "nbformat_minor": 4
}
