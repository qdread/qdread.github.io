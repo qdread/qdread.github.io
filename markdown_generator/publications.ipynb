{
 "cells": [
  {
   "cell_type": "markdown",
   "metadata": {},
   "source": [
    "# Publications markdown generator for academicpages\n",
    "\n",
    "Takes a TSV of publications with metadata and converts them for use with [academicpages.github.io](academicpages.github.io). This is an interactive Jupyter notebook ([see more info here](http://jupyter-notebook-beginner-guide.readthedocs.io/en/latest/what_is_jupyter.html)). The core python code is also in `publications.py`. Run either from the `markdown_generator` folder after replacing `publications.tsv` with one containing your data.\n",
    "\n",
    "TODO: Make this work with BibTex and other databases of citations, rather than Stuart's non-standard TSV format and citation style.\n"
   ]
  },
  {
   "cell_type": "markdown",
   "metadata": {},
   "source": [
    "## Data format\n",
    "\n",
    "The TSV needs to have the following columns: pub_date, title, venue, excerpt, citation, site_url, and paper_url, with a header at the top. \n",
    "\n",
    "- `excerpt` and `paper_url` can be blank, but the others must have values. \n",
    "- `pub_date` must be formatted as YYYY-MM-DD.\n",
    "- `url_slug` will be the descriptive part of the .md file and the permalink URL for the page about the paper. The .md file will be `YYYY-MM-DD-[url_slug].md` and the permalink will be `https://[yourdomain]/publications/YYYY-MM-DD-[url_slug]`\n",
    "\n",
    "This is how the raw file looks (it doesn't look pretty, use a spreadsheet or other program to edit and create)."
   ]
  },
  {
   "cell_type": "code",
   "execution_count": 1,
   "metadata": {},
   "outputs": [
    {
     "name": "stdout",
     "output_type": "stream",
     "text": [
      "pub_date\ttitle\tvenue\texcerpt\tcitation\turl_slug\tpaper_url\n",
      "2023-05-15\tBacteria disinfection of rice seeds by ultraviolet light irradiation in a biosafe flow cabinet\tPlant Health Progress\t\t\"Jia, Y. and Q. D. Read. 2023. Bacteria disinfection of rice seeds by ultraviolet light irradiation in a biosafe flow cabinet. Plant Health Progress. DOI: 10.1094/PHP-02-23-0017-RS.\"\tjia-and-read-2023\thttps://doi.org/10.1094/PHP-02-23-0017-RS\n",
      "2023-04-11\tOptimal timing of fungicide application to manage Fusarium head blight in winter barley\tPlant Disease\t\t\"Cowger, C., Q. D. Read, L. Clark, and Y. Dong. 2023. Optimal timing of fungicide application to manage Fusarium head blight in winter barley. Plant Disease. DOI: 10.1094/PDIS-01-23-0021-RE.\"\tcowger-et-al-2023\thttps://doi.org/10.1094/PDIS-01-23-0021-RE\n",
      "2023-03-16\tEvaluating the accuracy and efficiency of test weight instruments for soybean (Glycine max L.) research\tAgrosystems, Geosciences & Environment\tOpen access!\t\"Fett, R., A. M. Gillen, Q. D. Read, S. Patel, and J. Koebernick. 2023. Evaluating the accuracy and efficiency of test weight instruments for soybean (Glycine max L.) research. Agrosystems, Geosciences & Environment. DOI: 10.1002/agg2.20354.\"\tfett-et-al-2023\thttps://doi.org/10.1002/agg2.20354\n",
      "2023-02-16\tCharcoal rot severity and soybean yield responses to planting date, irrigation, and genotypes\tPlant Disease\t\t\"Mengistu, A., J. D. Ray, H. M. Kelly, Q. D. Read, R. J. Smith, N. Bellaloui, and L. A. Schumacher. 2023. Charcoal rot severity and soybean yield responses to planting date, irrigation, and genotypes. Plant Disease. DOI: 10.1094/PDIS-06-22-1329-RE.\"\tmengistu-et-al-2023\thttps://doi.org/10.1094/PDIS-06-22-1329-RE\n"
     ]
    }
   ],
   "source": [
    "!Powershell.exe -Command type publications.tsv -Head 5"
   ]
  },
  {
   "cell_type": "markdown",
   "metadata": {},
   "source": [
    "## Import pandas\n",
    "\n",
    "We are using the very handy pandas library for dataframes."
   ]
  },
  {
   "cell_type": "code",
   "execution_count": 1,
   "metadata": {},
   "outputs": [],
   "source": [
    "import pandas as pd"
   ]
  },
  {
   "cell_type": "markdown",
   "metadata": {},
   "source": [
    "## Import TSV\n",
    "\n",
    "Pandas makes this easy with the read_csv function. We are using a TSV, so we specify the separator as a tab, or `\\t`.\n",
    "\n",
    "I found it important to put this data in a tab-separated values format, because there are a lot of commas in this kind of data and comma-separated values can get messed up. However, you can modify the import statement, as pandas also has read_excel(), read_json(), and others."
   ]
  },
  {
   "cell_type": "code",
   "execution_count": 2,
   "metadata": {},
   "outputs": [
    {
     "data": {
      "text/html": [
       "<div>\n",
       "<style scoped>\n",
       "    .dataframe tbody tr th:only-of-type {\n",
       "        vertical-align: middle;\n",
       "    }\n",
       "\n",
       "    .dataframe tbody tr th {\n",
       "        vertical-align: top;\n",
       "    }\n",
       "\n",
       "    .dataframe thead th {\n",
       "        text-align: right;\n",
       "    }\n",
       "</style>\n",
       "<table border=\"1\" class=\"dataframe\">\n",
       "  <thead>\n",
       "    <tr style=\"text-align: right;\">\n",
       "      <th></th>\n",
       "      <th>pub_date</th>\n",
       "      <th>title</th>\n",
       "      <th>venue</th>\n",
       "      <th>excerpt</th>\n",
       "      <th>citation</th>\n",
       "      <th>url_slug</th>\n",
       "      <th>paper_url</th>\n",
       "    </tr>\n",
       "  </thead>\n",
       "  <tbody>\n",
       "    <tr>\n",
       "      <th>0</th>\n",
       "      <td>2023-06-12</td>\n",
       "      <td>Use of automated capillary immunoassay for qua...</td>\n",
       "      <td>Journal of Microbiological Methods</td>\n",
       "      <td>NaN</td>\n",
       "      <td>Yeh, H.-Y., J. G. Frye, C. R. Jackson, Q. D. R...</td>\n",
       "      <td>yeh-et-al-2023</td>\n",
       "      <td>https://doi.org/10.1016/j.mimet.2023.106757</td>\n",
       "    </tr>\n",
       "    <tr>\n",
       "      <th>1</th>\n",
       "      <td>2023-05-19</td>\n",
       "      <td>Parental choice and seed size impact the uprig...</td>\n",
       "      <td>Crop Science</td>\n",
       "      <td>NaN</td>\n",
       "      <td>Taliercio, E., D. Eickholt, Q. D. Read, T. Car...</td>\n",
       "      <td>taliercio-et-al-2023</td>\n",
       "      <td>https://doi.org/10.1002/csc2.21015</td>\n",
       "    </tr>\n",
       "    <tr>\n",
       "      <th>2</th>\n",
       "      <td>2023-05-15</td>\n",
       "      <td>Bacteria disinfection of rice seeds by ultravi...</td>\n",
       "      <td>Plant Health Progress</td>\n",
       "      <td>NaN</td>\n",
       "      <td>Jia, Y. and Q. D. Read. 2023. Bacteria disinfe...</td>\n",
       "      <td>jia-and-read-2023</td>\n",
       "      <td>https://doi.org/10.1094/PHP-02-23-0017-RS</td>\n",
       "    </tr>\n",
       "    <tr>\n",
       "      <th>3</th>\n",
       "      <td>2023-04-11</td>\n",
       "      <td>Optimal timing of fungicide application to man...</td>\n",
       "      <td>Plant Disease</td>\n",
       "      <td>NaN</td>\n",
       "      <td>Cowger, C., Q. D. Read, L. Clark, and Y. Dong....</td>\n",
       "      <td>cowger-et-al-2023</td>\n",
       "      <td>https://doi.org/10.1094/PDIS-01-23-0021-RE</td>\n",
       "    </tr>\n",
       "    <tr>\n",
       "      <th>4</th>\n",
       "      <td>2023-03-16</td>\n",
       "      <td>Evaluating the accuracy and efficiency of test...</td>\n",
       "      <td>Agrosystems, Geosciences &amp; Environment</td>\n",
       "      <td>Open access!</td>\n",
       "      <td>Fett, R., A. M. Gillen, Q. D. Read, S. Patel, ...</td>\n",
       "      <td>fett-et-al-2023</td>\n",
       "      <td>https://doi.org/10.1002/agg2.20354</td>\n",
       "    </tr>\n",
       "  </tbody>\n",
       "</table>\n",
       "</div>"
      ],
      "text/plain": [
       "     pub_date                                              title  \\\n",
       "0  2023-06-12  Use of automated capillary immunoassay for qua...   \n",
       "1  2023-05-19  Parental choice and seed size impact the uprig...   \n",
       "2  2023-05-15  Bacteria disinfection of rice seeds by ultravi...   \n",
       "3  2023-04-11  Optimal timing of fungicide application to man...   \n",
       "4  2023-03-16  Evaluating the accuracy and efficiency of test...   \n",
       "\n",
       "                                    venue       excerpt  \\\n",
       "0      Journal of Microbiological Methods           NaN   \n",
       "1                            Crop Science           NaN   \n",
       "2                   Plant Health Progress           NaN   \n",
       "3                           Plant Disease           NaN   \n",
       "4  Agrosystems, Geosciences & Environment  Open access!   \n",
       "\n",
       "                                            citation              url_slug  \\\n",
       "0  Yeh, H.-Y., J. G. Frye, C. R. Jackson, Q. D. R...        yeh-et-al-2023   \n",
       "1  Taliercio, E., D. Eickholt, Q. D. Read, T. Car...  taliercio-et-al-2023   \n",
       "2  Jia, Y. and Q. D. Read. 2023. Bacteria disinfe...     jia-and-read-2023   \n",
       "3  Cowger, C., Q. D. Read, L. Clark, and Y. Dong....     cowger-et-al-2023   \n",
       "4  Fett, R., A. M. Gillen, Q. D. Read, S. Patel, ...       fett-et-al-2023   \n",
       "\n",
       "                                     paper_url  \n",
       "0  https://doi.org/10.1016/j.mimet.2023.106757  \n",
       "1           https://doi.org/10.1002/csc2.21015  \n",
       "2    https://doi.org/10.1094/PHP-02-23-0017-RS  \n",
       "3   https://doi.org/10.1094/PDIS-01-23-0021-RE  \n",
       "4           https://doi.org/10.1002/agg2.20354  "
      ]
     },
     "execution_count": 2,
     "metadata": {},
     "output_type": "execute_result"
    }
   ],
   "source": [
    "publications = pd.read_csv(\"publications.tsv\", sep=\"\\t\", header=0)\n",
    "publications.head()\n"
   ]
  },
  {
   "cell_type": "markdown",
   "metadata": {},
   "source": [
    "## Escape special characters\n",
    "\n",
    "YAML is very picky about how it takes a valid string, so we are replacing single and double quotes (and ampersands) with their HTML encoded equivilents. This makes them look not so readable in raw format, but they are parsed and rendered nicely."
   ]
  },
  {
   "cell_type": "code",
   "execution_count": 3,
   "metadata": {},
   "outputs": [],
   "source": [
    "html_escape_table = {\n",
    "    \"&\": \"&amp;\",\n",
    "    '\"': \"&quot;\",\n",
    "    \"'\": \"&apos;\"\n",
    "    }\n",
    "\n",
    "def html_escape(text):\n",
    "    \"\"\"Produce entities within text.\"\"\"\n",
    "    return \"\".join(html_escape_table.get(c,c) for c in text)"
   ]
  },
  {
   "cell_type": "code",
   "execution_count": 4,
   "metadata": {},
   "outputs": [],
   "source": [
    "# Here, subset the rows of publications to only 1 or however many we need to update right now\n",
    "publications = publications.head(1)"
   ]
  },
  {
   "cell_type": "code",
   "execution_count": 5,
   "metadata": {},
   "outputs": [
    {
     "data": {
      "text/plain": [
       "'0    2023-06-12\\n1    2023-05-19\\nName: pub_date, dtype: object'"
      ]
     },
     "execution_count": 5,
     "metadata": {},
     "output_type": "execute_result"
    }
   ],
   "source": [
    "# Some test code to see what the filename would be\n",
    "str(publications['pub_date'])"
   ]
  },
  {
   "cell_type": "markdown",
   "metadata": {},
   "source": [
    "## Creating the markdown files\n",
    "\n",
    "This is where the heavy lifting is done. This loops through all the rows in the TSV dataframe, then starts to concatentate a big string (```md```) that contains the markdown for each type. It does the YAML metadata first, then does the description for the individual page."
   ]
  },
  {
   "cell_type": "code",
   "execution_count": 6,
   "metadata": {},
   "outputs": [],
   "source": [
    "import os\n",
    "for row, item in publications.iterrows():\n",
    "    \n",
    "    md_filename = str(item.pub_date) + \"-\" + item.url_slug + \".md\"\n",
    "    html_filename = str(item.pub_date) + \"-\" + item.url_slug\n",
    "    year = str(item.pub_date)[:4]\n",
    "    \n",
    "    ## YAML variables\n",
    "    \n",
    "    md = \"---\\ntitle: \\\"\"   + item.title + '\"\\n'\n",
    "    \n",
    "    md += \"\"\"collection: publications\"\"\"\n",
    "    \n",
    "    md += \"\"\"\\npermalink: /publication/\"\"\" + html_filename\n",
    "    \n",
    "    if len(str(item.excerpt)) > 5:\n",
    "        md += \"\\nexcerpt: '\" + html_escape(item.excerpt) + \"'\"\n",
    "    \n",
    "    md += \"\\ndate: \" + str(item.pub_date) \n",
    "    \n",
    "    md += \"\\nvenue: '\" + html_escape(item.venue) + \"'\"\n",
    "    \n",
    "    if len(str(item.paper_url)) > 5:\n",
    "        md += \"\\npaperurl: '\" + item.paper_url + \"'\"\n",
    "    \n",
    "    md += \"\\ncitation: '\" + html_escape(item.citation) + \"'\"\n",
    "    \n",
    "    md += \"\\n---\"\n",
    "    \n",
    "    ## Markdown description for individual page\n",
    "        \n",
    "    if len(str(item.excerpt)) > 5:\n",
    "        md += \"\\n\" + html_escape(item.excerpt) + \"\\n\"\n",
    "    \n",
    "    if len(str(item.paper_url)) > 5:\n",
    "        md += \"\\n[Download paper here](\" + item.paper_url + \")\\n\" \n",
    "        \n",
    "    ##md += \"\\nRecommended citation: \" + item.citation\n",
    "    \n",
    "    md_filename = os.path.basename(md_filename)\n",
    "       \n",
    "    with open(\"../_publications/\" + md_filename, 'w') as f:\n",
    "        f.write(md)"
   ]
  },
  {
   "cell_type": "markdown",
   "metadata": {},
   "source": [
    "These files are in the publications directory, one directory below where we're working from."
   ]
  },
  {
   "cell_type": "code",
   "execution_count": 7,
   "metadata": {},
   "outputs": [
    {
     "name": "stdout",
     "output_type": "stream",
     "text": [
      "Microsoft Windows [Version 10.0.19044.2965]\n",
      "(c) Microsoft Corporation. All rights reserved.\n",
      "\n",
      "C:\\Users\\qdread\\Documents\\GitHub\\qdread.github.io\\markdown_generator>dir ..\\_publications\\\n",
      " Volume in drive C has no label.\n",
      " Volume Serial Number is 08D0-A2BB\n",
      "\n",
      " Directory of C:\\Users\\qdread\\Documents\\GitHub\\qdread.github.io\\_publications\n",
      "\n",
      "06/14/2023  08:56 PM    <DIR>          .\n",
      "06/14/2023  08:56 PM    <DIR>          ..\n",
      "01/19/2023  10:58 AM               724 2012-02-29-clark-et-al-2012.md\n",
      "01/19/2023  10:58 AM               708 2013-11-12-vannuland-et-al-2013.md\n",
      "01/19/2023  10:58 AM               776 2013-12-07-gorman-et-al-2013.md\n",
      "01/19/2023  10:58 AM               871 2014-02-01-read-et-al-2014-functional-ecology.md\n",
      "01/19/2023  10:58 AM               741 2015-09-01-schussler-et-al-2015.md\n",
      "01/19/2023  10:58 AM               806 2016-07-01-read-et-al-2016-oikos.md\n",
      "01/19/2023  10:58 AM               682 2016-07-01-vannuland-et-al-2016.md\n",
      "01/19/2023  10:58 AM               773 2016-08-01-yoon-and-read-2016.md\n",
      "01/19/2023  10:58 AM               817 2017-07-01-hendershot-et-al-2017.md\n",
      "01/19/2023  10:58 AM               648 2017-09-01-read-et-al-2017-j-veg-sci.md\n",
      "01/19/2023  10:58 AM               574 2017-12-29-butler-et-al-2017.md\n",
      "01/19/2023  10:58 AM               589 2018-01-24-read-et-al-2018-biology-letters.md\n",
      "01/19/2023  10:58 AM               676 2018-03-06-read-et-al-2018-j-plant-ecology.md\n",
      "01/19/2023  10:58 AM               684 2018-05-01-welshofer-et-al-2018.md\n",
      "01/19/2023  10:58 AM               749 2018-10-01-read-et-al-2018-ecography.md\n",
      "01/19/2023  10:58 AM               669 2018-10-20-grady-et-al-2018.md\n",
      "01/19/2023  10:58 AM               801 2019-02-27-zarnetske-et-al-2019.md\n",
      "01/19/2023  10:58 AM               696 2019-03-12-henning-et-al-2019.md\n",
      "01/19/2023  12:09 PM               911 2019-07-16-muth-et-al-2019.md\n",
      "01/19/2023  12:09 PM               801 2020-01-14-read-et-al-2020-sci-tot-env.md\n",
      "01/19/2023  10:58 AM               662 2020-01-24-read-et-al-2020-global-ecol-biogeog.md\n",
      "01/19/2023  10:58 AM             1,130 2020-06-01-record-et-al-2020-remote-sensing-of-biodiversity.md\n",
      "01/19/2023  12:09 PM               692 2020-06-23-grady-et-al-2020-biorxiv.md\n",
      "01/19/2023  12:09 PM               581 2021-01-20-metson-et-al-2021-oneearth.md\n",
      "01/19/2023  12:09 PM               676 2021-02-02-read-and-muth-2021.md\n",
      "01/19/2023  10:58 AM               468 2021-04-01-marston-et-al-2021.md\n",
      "01/19/2023  12:09 PM               591 2021-04-20-prager-et-al-2021.md\n",
      "01/19/2023  10:58 AM               802 2021-06-21-dahlin-et-al-2021.md\n",
      "01/19/2023  10:58 AM               641 2022-01-03-rewcastle-et-al-2022.md\n",
      "01/19/2023  10:58 AM               647 2022-03-12-sthapit-kandel-et-al-2022.md\n",
      "01/19/2023  10:58 AM             1,870 2022-04-04-read-et-al-2022-pnas.md\n",
      "01/19/2023  10:58 AM             1,079 2022-04-15-mason-et-al-2022.md\n",
      "01/19/2023  10:58 AM               766 2022-05-01-mcintyre-butts-and-read-2022.md\n",
      "01/19/2023  10:58 AM               795 2022-05-13-kamoske-et-al-2022.md\n",
      "01/19/2023  10:58 AM               685 2022-08-27-swanwick-et-al-2022.md\n",
      "01/19/2023  10:58 AM               657 2022-09-09-zimba-et-al-2022.md\n",
      "01/19/2023  10:58 AM               643 2022-09-10-islam-et-al-2022.md\n",
      "01/19/2023  12:09 PM             1,036 2022-10-18-prager-et-al-2022.md\n",
      "01/19/2023  10:58 AM               664 2022-11-11-winzeler-et-al-2022.md\n",
      "01/19/2023  10:58 AM               632 2022-12-06-allan-et-al-2022.md\n",
      "01/19/2023  10:58 AM               726 2022-12-23-mcmillan-et-al-2023.md\n",
      "01/19/2023  10:58 AM               941 2023-01-12-gurung-et-al-2023.md\n",
      "01/19/2023  10:58 AM               807 2023-01-18-nestle-et-al-2023.md\n",
      "01/24/2023  08:32 AM               612 2023-01-24-zollota-et-al-2023.md\n",
      "04/19/2023  10:38 AM               706 2023-02-01-adeli-et-al-2023.md\n",
      "04/19/2023  10:38 AM               622 2023-02-16-mengistu-et-al-2023.md\n",
      "04/19/2023  10:38 AM               679 2023-03-16-fett-et-al-2023.md\n",
      "04/19/2023  10:38 AM               556 2023-04-11-cowger-et-al-2023.md\n",
      "05/23/2023  04:59 AM               560 2023-05-15-jia-and-read-2023.md\n",
      "06/14/2023  08:56 PM               600 2023-05-19-taliercio-et-al-2023.md\n",
      "06/14/2023  08:56 PM               767 2023-06-12-yeh-et-al-2023.md\n",
      "              51 File(s)         37,989 bytes\n",
      "               2 Dir(s)  225,076,715,520 bytes free\n",
      "\n",
      "C:\\Users\\qdread\\Documents\\GitHub\\qdread.github.io\\markdown_generator>"
     ]
    }
   ],
   "source": [
    "%%cmd\n",
    "dir ..\\_publications\\"
   ]
  },
  {
   "cell_type": "code",
   "execution_count": null,
   "metadata": {},
   "outputs": [],
   "source": []
  }
 ],
 "metadata": {
  "kernelspec": {
   "display_name": "Python 3 (ipykernel)",
   "language": "python",
   "name": "python3"
  },
  "language_info": {
   "codemirror_mode": {
    "name": "ipython",
    "version": 3
   },
   "file_extension": ".py",
   "mimetype": "text/x-python",
   "name": "python",
   "nbconvert_exporter": "python",
   "pygments_lexer": "ipython3",
   "version": "3.10.0"
  }
 },
 "nbformat": 4,
 "nbformat_minor": 4
}
