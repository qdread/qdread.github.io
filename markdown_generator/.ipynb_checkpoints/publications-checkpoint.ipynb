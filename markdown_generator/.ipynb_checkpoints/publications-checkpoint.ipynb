{
 "cells": [
  {
   "cell_type": "markdown",
   "metadata": {},
   "source": [
    "# Publications markdown generator for academicpages\n",
    "\n",
    "Takes a TSV of publications with metadata and converts them for use with [academicpages.github.io](academicpages.github.io). This is an interactive Jupyter notebook ([see more info here](http://jupyter-notebook-beginner-guide.readthedocs.io/en/latest/what_is_jupyter.html)). The core python code is also in `publications.py`. Run either from the `markdown_generator` folder after replacing `publications.tsv` with one containing your data.\n",
    "\n",
    "TODO: Make this work with BibTex and other databases of citations, rather than Stuart's non-standard TSV format and citation style.\n"
   ]
  },
  {
   "cell_type": "markdown",
   "metadata": {},
   "source": [
    "## Data format\n",
    "\n",
    "The TSV needs to have the following columns: pub_date, title, venue, excerpt, citation, site_url, and paper_url, with a header at the top. \n",
    "\n",
    "- `excerpt` and `paper_url` can be blank, but the others must have values. \n",
    "- `pub_date` must be formatted as YYYY-MM-DD.\n",
    "- `url_slug` will be the descriptive part of the .md file and the permalink URL for the page about the paper. The .md file will be `YYYY-MM-DD-[url_slug].md` and the permalink will be `https://[yourdomain]/publications/YYYY-MM-DD-[url_slug]`\n",
    "\n",
    "This is how the raw file looks (it doesn't look pretty, use a spreadsheet or other program to edit and create)."
   ]
  },
  {
   "cell_type": "code",
   "execution_count": 1,
   "metadata": {},
   "outputs": [
    {
     "name": "stdout",
     "output_type": "stream",
     "text": [
      "pub_date\ttitle\tvenue\texcerpt\tcitation\turl_slug\tpaper_url\n",
      "2023-12-23\tChanges in plant architecture in Brazilian peppertree damaged by the biological control agent, Pseudophilothrips ichini Hood (Thysanoptera: Phlaeothripidae).\t\t\"Halbritter, D. A., E. Kariuki, G. S. Wheeler, M. B. Rayamajhi, C. Minteer, and Q. D. Read. Changes in plant architecture in Brazilian peppertree damaged by the biological control agent, Pseudophilothrips ichini Hood (Thysanoptera: Phlaeothripidae). Biological Control 188, 105414. DOI: 10.1016/j.biocontrol.2023.105434.\"\thalbritter-et-al-2023\thttps://doi.org/10.1016/j.biocontrol.2023.105434\n",
      "2023-11-11\tStem borer herbivory dependent on interactions of sugarcane variety, associated traits, and presence of prior borer damage.\tPest Management Science\t\t\"Penn, H. J. and Q. D. Read. 2023. Stem borer herbivory dependent on interactions of sugarcane variety, associated traits, and presence of prior borer damage. Pest Management Science. DOI: 10.1002/ps.7843.\"\tpenn-and-read-2023\thttps://doi.org/10.1002/ps.7843\n"
     ]
    }
   ],
   "source": [
    "!Powershell.exe -Command type publications.tsv -Head 3"
   ]
  },
  {
   "cell_type": "markdown",
   "metadata": {},
   "source": [
    "## Import pandas\n",
    "\n",
    "We are using the very handy pandas library for dataframes."
   ]
  },
  {
   "cell_type": "code",
   "execution_count": 2,
   "metadata": {},
   "outputs": [],
   "source": [
    "import pandas as pd"
   ]
  },
  {
   "cell_type": "markdown",
   "metadata": {},
   "source": [
    "## Import TSV\n",
    "\n",
    "Pandas makes this easy with the read_csv function. We are using a TSV, so we specify the separator as a tab, or `\\t`.\n",
    "\n",
    "I found it important to put this data in a tab-separated values format, because there are a lot of commas in this kind of data and comma-separated values can get messed up. However, you can modify the import statement, as pandas also has read_excel(), read_json(), and others."
   ]
  },
  {
   "cell_type": "code",
   "execution_count": 8,
   "metadata": {},
   "outputs": [
    {
     "data": {
      "text/html": [
       "<div>\n",
       "<style scoped>\n",
       "    .dataframe tbody tr th:only-of-type {\n",
       "        vertical-align: middle;\n",
       "    }\n",
       "\n",
       "    .dataframe tbody tr th {\n",
       "        vertical-align: top;\n",
       "    }\n",
       "\n",
       "    .dataframe thead th {\n",
       "        text-align: right;\n",
       "    }\n",
       "</style>\n",
       "<table border=\"1\" class=\"dataframe\">\n",
       "  <thead>\n",
       "    <tr style=\"text-align: right;\">\n",
       "      <th></th>\n",
       "      <th>pub_date</th>\n",
       "      <th>title</th>\n",
       "      <th>venue</th>\n",
       "      <th>excerpt</th>\n",
       "      <th>citation</th>\n",
       "      <th>url_slug</th>\n",
       "      <th>paper_url</th>\n",
       "    </tr>\n",
       "  </thead>\n",
       "  <tbody>\n",
       "    <tr>\n",
       "      <th>0</th>\n",
       "      <td>2023-12-23</td>\n",
       "      <td>Changes in plant architecture in Brazilian pep...</td>\n",
       "      <td>Biological Control</td>\n",
       "      <td>NaN</td>\n",
       "      <td>Halbritter, D. A., E. Kariuki, G. S. Wheeler, ...</td>\n",
       "      <td>halbritter-et-al-2023</td>\n",
       "      <td>https://doi.org/10.1016/j.biocontrol.2023.105434</td>\n",
       "    </tr>\n",
       "    <tr>\n",
       "      <th>1</th>\n",
       "      <td>2023-11-11</td>\n",
       "      <td>Stem borer herbivory dependent on interactions...</td>\n",
       "      <td>Pest Management Science</td>\n",
       "      <td>NaN</td>\n",
       "      <td>Penn, H. J. and Q. D. Read. 2023. Stem borer h...</td>\n",
       "      <td>penn-and-read-2023</td>\n",
       "      <td>https://doi.org/10.1002/ps.7843</td>\n",
       "    </tr>\n",
       "    <tr>\n",
       "      <th>2</th>\n",
       "      <td>2023-11-02</td>\n",
       "      <td>Distribution of antibiotic resistance in a mix...</td>\n",
       "      <td>Antibiotics</td>\n",
       "      <td>Open access!</td>\n",
       "      <td>Cho, S., L. M. Hiott, Q. D. Read, J. Damashek,...</td>\n",
       "      <td>cho-et-al-2023</td>\n",
       "      <td>https://doi.org/10.3390/antibiotics12111586</td>\n",
       "    </tr>\n",
       "    <tr>\n",
       "      <th>3</th>\n",
       "      <td>2023-10-20</td>\n",
       "      <td>Potential energy and environmental footprint s...</td>\n",
       "      <td>Environmental Science &amp; Technology</td>\n",
       "      <td>Open access!</td>\n",
       "      <td>Osei-Owusu, K. A., Q. D. Read, and M. Thomsen....</td>\n",
       "      <td>osei-owusu-et-al-2023</td>\n",
       "      <td>https://doi.org/10.1021/acs.est.3c00158</td>\n",
       "    </tr>\n",
       "    <tr>\n",
       "      <th>4</th>\n",
       "      <td>2023-08-01</td>\n",
       "      <td>Rye planting date impacts biomass production m...</td>\n",
       "      <td>Agronomy Journal</td>\n",
       "      <td>NaN</td>\n",
       "      <td>Balkcom, K. S., Q. D. Read, and A. V. Gamble. ...</td>\n",
       "      <td>balkcom-et-al-2023</td>\n",
       "      <td>https://doi.org/10.1002/agj2.21418</td>\n",
       "    </tr>\n",
       "  </tbody>\n",
       "</table>\n",
       "</div>"
      ],
      "text/plain": [
       "     pub_date                                              title  \\\n",
       "0  2023-12-23  Changes in plant architecture in Brazilian pep...   \n",
       "1  2023-11-11  Stem borer herbivory dependent on interactions...   \n",
       "2  2023-11-02  Distribution of antibiotic resistance in a mix...   \n",
       "3  2023-10-20  Potential energy and environmental footprint s...   \n",
       "4  2023-08-01  Rye planting date impacts biomass production m...   \n",
       "\n",
       "                                venue       excerpt  \\\n",
       "0                  Biological Control           NaN   \n",
       "1             Pest Management Science           NaN   \n",
       "2                         Antibiotics  Open access!   \n",
       "3  Environmental Science & Technology  Open access!   \n",
       "4                    Agronomy Journal           NaN   \n",
       "\n",
       "                                            citation               url_slug  \\\n",
       "0  Halbritter, D. A., E. Kariuki, G. S. Wheeler, ...  halbritter-et-al-2023   \n",
       "1  Penn, H. J. and Q. D. Read. 2023. Stem borer h...     penn-and-read-2023   \n",
       "2  Cho, S., L. M. Hiott, Q. D. Read, J. Damashek,...         cho-et-al-2023   \n",
       "3  Osei-Owusu, K. A., Q. D. Read, and M. Thomsen....  osei-owusu-et-al-2023   \n",
       "4  Balkcom, K. S., Q. D. Read, and A. V. Gamble. ...     balkcom-et-al-2023   \n",
       "\n",
       "                                          paper_url  \n",
       "0  https://doi.org/10.1016/j.biocontrol.2023.105434  \n",
       "1                   https://doi.org/10.1002/ps.7843  \n",
       "2       https://doi.org/10.3390/antibiotics12111586  \n",
       "3           https://doi.org/10.1021/acs.est.3c00158  \n",
       "4                https://doi.org/10.1002/agj2.21418  "
      ]
     },
     "execution_count": 8,
     "metadata": {},
     "output_type": "execute_result"
    }
   ],
   "source": [
    "publications = pd.read_csv(\"publications.tsv\", sep=\"\\t\", header=0)\n",
    "publications.head()\n"
   ]
  },
  {
   "cell_type": "markdown",
   "metadata": {},
   "source": [
    "## Escape special characters\n",
    "\n",
    "YAML is very picky about how it takes a valid string, so we are replacing single and double quotes (and ampersands) with their HTML encoded equivilents. This makes them look not so readable in raw format, but they are parsed and rendered nicely."
   ]
  },
  {
   "cell_type": "code",
   "execution_count": 9,
   "metadata": {},
   "outputs": [],
   "source": [
    "html_escape_table = {\n",
    "    \"&\": \"&amp;\",\n",
    "    '\"': \"&quot;\",\n",
    "    \"'\": \"&apos;\"\n",
    "    }\n",
    "\n",
    "def html_escape(text):\n",
    "    \"\"\"Produce entities within text.\"\"\"\n",
    "    return \"\".join(html_escape_table.get(c,c) for c in text)"
   ]
  },
  {
   "cell_type": "code",
   "execution_count": 10,
   "metadata": {},
   "outputs": [],
   "source": [
    "# Here, subset the rows of publications to only 1 or however many we need to update right now\n",
    "publications = publications.head(1)"
   ]
  },
  {
   "cell_type": "code",
   "execution_count": 11,
   "metadata": {},
   "outputs": [
    {
     "data": {
      "text/plain": [
       "'0    2023-12-23\\nName: pub_date, dtype: object'"
      ]
     },
     "execution_count": 11,
     "metadata": {},
     "output_type": "execute_result"
    }
   ],
   "source": [
    "# Some test code to see what the filename would be\n",
    "str(publications['pub_date'])"
   ]
  },
  {
   "cell_type": "markdown",
   "metadata": {},
   "source": [
    "## Creating the markdown files\n",
    "\n",
    "This is where the heavy lifting is done. This loops through all the rows in the TSV dataframe, then starts to concatentate a big string (```md```) that contains the markdown for each type. It does the YAML metadata first, then does the description for the individual page."
   ]
  },
  {
   "cell_type": "code",
   "execution_count": 12,
   "metadata": {},
   "outputs": [],
   "source": [
    "import os\n",
    "for row, item in publications.iterrows():\n",
    "    \n",
    "    md_filename = str(item.pub_date) + \"-\" + item.url_slug + \".md\"\n",
    "    html_filename = str(item.pub_date) + \"-\" + item.url_slug\n",
    "    year = str(item.pub_date)[:4]\n",
    "    \n",
    "    ## YAML variables\n",
    "    \n",
    "    md = \"---\\ntitle: \\\"\"   + item.title + '\"\\n'\n",
    "    \n",
    "    md += \"\"\"collection: publications\"\"\"\n",
    "    \n",
    "    md += \"\"\"\\npermalink: /publication/\"\"\" + html_filename\n",
    "    \n",
    "    if len(str(item.excerpt)) > 5:\n",
    "        md += \"\\nexcerpt: '\" + html_escape(item.excerpt) + \"'\"\n",
    "    \n",
    "    md += \"\\ndate: \" + str(item.pub_date) \n",
    "    \n",
    "    md += \"\\nvenue: '\" + html_escape(item.venue) + \"'\"\n",
    "    \n",
    "    if len(str(item.paper_url)) > 5:\n",
    "        md += \"\\npaperurl: '\" + item.paper_url + \"'\"\n",
    "    \n",
    "    md += \"\\ncitation: '\" + html_escape(item.citation) + \"'\"\n",
    "    \n",
    "    md += \"\\n---\"\n",
    "    \n",
    "    ## Markdown description for individual page\n",
    "        \n",
    "    if len(str(item.excerpt)) > 5:\n",
    "        md += \"\\n\" + html_escape(item.excerpt) + \"\\n\"\n",
    "    \n",
    "    if len(str(item.paper_url)) > 5:\n",
    "        md += \"\\n[Download paper here](\" + item.paper_url + \")\\n\" \n",
    "        \n",
    "    ##md += \"\\nRecommended citation: \" + item.citation\n",
    "    \n",
    "    md_filename = os.path.basename(md_filename)\n",
    "       \n",
    "    with open(\"../_publications/\" + md_filename, 'w') as f:\n",
    "        f.write(md)"
   ]
  },
  {
   "cell_type": "markdown",
   "metadata": {},
   "source": [
    "These files are in the publications directory, one directory below where we're working from."
   ]
  },
  {
   "cell_type": "code",
   "execution_count": 13,
   "metadata": {},
   "outputs": [
    {
     "name": "stdout",
     "output_type": "stream",
     "text": [
      "Microsoft Windows [Version 10.0.19045.3803]\n",
      "(c) Microsoft Corporation. All rights reserved.\n",
      "\n",
      "C:\\Users\\qdread\\Documents\\GitHub\\qdread.github.io\\markdown_generator>dir /s /o:-d ..\\_publications\\ \n",
      " Volume in drive C has no label.\n",
      " Volume Serial Number is 08D0-A2BB\n",
      "\n",
      " Directory of C:\\Users\\qdread\\Documents\\GitHub\\qdread.github.io\\_publications\n",
      "\n",
      "12/27/2023  10:13 AM               777 2023-12-23-halbritter-et-al-2023.md\n",
      "12/27/2023  10:13 AM    <DIR>          ..\n",
      "12/27/2023  10:13 AM    <DIR>          .\n",
      "11/11/2023  03:14 PM               596 2023-11-11-penn-and-read-2023.md\n",
      "11/02/2023  08:20 AM               882 2023-11-02-cho-et-al-2023.md\n",
      "10/25/2023  11:57 AM               762 2023-10-20-osei-owusu-et-al-2023.md\n",
      "10/25/2023  07:36 AM             1,137 2020-06-01-record-et-al-2020-remote-sensing-of-biodiversity.md\n",
      "08/01/2023  07:39 AM               546 2023-08-01-balkcom-et-al-2023.md\n",
      "07/22/2023  01:58 PM               791 2023-07-21-degracia-et-al-2023.md\n",
      "06/14/2023  08:56 PM               600 2023-05-19-taliercio-et-al-2023.md\n",
      "06/14/2023  08:56 PM               767 2023-06-12-yeh-et-al-2023.md\n",
      "05/23/2023  04:59 AM               560 2023-05-15-jia-and-read-2023.md\n",
      "04/19/2023  10:38 AM               706 2023-02-01-adeli-et-al-2023.md\n",
      "04/19/2023  10:38 AM               622 2023-02-16-mengistu-et-al-2023.md\n",
      "04/19/2023  10:38 AM               679 2023-03-16-fett-et-al-2023.md\n",
      "04/19/2023  10:38 AM               556 2023-04-11-cowger-et-al-2023.md\n",
      "01/24/2023  08:32 AM               612 2023-01-24-zollota-et-al-2023.md\n",
      "01/19/2023  12:09 PM             1,036 2022-10-18-prager-et-al-2022.md\n",
      "01/19/2023  12:09 PM               591 2021-04-20-prager-et-al-2021.md\n",
      "01/19/2023  12:09 PM               676 2021-02-02-read-and-muth-2021.md\n",
      "01/19/2023  12:09 PM               581 2021-01-20-metson-et-al-2021-oneearth.md\n",
      "01/19/2023  12:09 PM               692 2020-06-23-grady-et-al-2020-biorxiv.md\n",
      "01/19/2023  12:09 PM               801 2020-01-14-read-et-al-2020-sci-tot-env.md\n",
      "01/19/2023  12:09 PM               911 2019-07-16-muth-et-al-2019.md\n",
      "01/19/2023  10:58 AM               724 2012-02-29-clark-et-al-2012.md\n",
      "01/19/2023  10:58 AM               708 2013-11-12-vannuland-et-al-2013.md\n",
      "01/19/2023  10:58 AM               776 2013-12-07-gorman-et-al-2013.md\n",
      "01/19/2023  10:58 AM               871 2014-02-01-read-et-al-2014-functional-ecology.md\n",
      "01/19/2023  10:58 AM               741 2015-09-01-schussler-et-al-2015.md\n",
      "01/19/2023  10:58 AM               773 2016-08-01-yoon-and-read-2016.md\n",
      "01/19/2023  10:58 AM               682 2016-07-01-vannuland-et-al-2016.md\n",
      "01/19/2023  10:58 AM               806 2016-07-01-read-et-al-2016-oikos.md\n",
      "01/19/2023  10:58 AM               574 2017-12-29-butler-et-al-2017.md\n",
      "01/19/2023  10:58 AM               817 2017-07-01-hendershot-et-al-2017.md\n",
      "01/19/2023  10:58 AM               648 2017-09-01-read-et-al-2017-j-veg-sci.md\n",
      "01/19/2023  10:58 AM               684 2018-05-01-welshofer-et-al-2018.md\n",
      "01/19/2023  10:58 AM               676 2018-03-06-read-et-al-2018-j-plant-ecology.md\n",
      "01/19/2023  10:58 AM               589 2018-01-24-read-et-al-2018-biology-letters.md\n",
      "01/19/2023  10:58 AM               749 2018-10-01-read-et-al-2018-ecography.md\n",
      "01/19/2023  10:58 AM               669 2018-10-20-grady-et-al-2018.md\n",
      "01/19/2023  10:58 AM               696 2019-03-12-henning-et-al-2019.md\n",
      "01/19/2023  10:58 AM               801 2019-02-27-zarnetske-et-al-2019.md\n",
      "01/19/2023  10:58 AM               662 2020-01-24-read-et-al-2020-global-ecol-biogeog.md\n",
      "01/19/2023  10:58 AM               468 2021-04-01-marston-et-al-2021.md\n",
      "01/19/2023  10:58 AM               802 2021-06-21-dahlin-et-al-2021.md\n",
      "01/19/2023  10:58 AM               641 2022-01-03-rewcastle-et-al-2022.md\n",
      "01/19/2023  10:58 AM               647 2022-03-12-sthapit-kandel-et-al-2022.md\n",
      "01/19/2023  10:58 AM             1,079 2022-04-15-mason-et-al-2022.md\n",
      "01/19/2023  10:58 AM             1,870 2022-04-04-read-et-al-2022-pnas.md\n",
      "01/19/2023  10:58 AM               766 2022-05-01-mcintyre-butts-and-read-2022.md\n",
      "01/19/2023  10:58 AM               795 2022-05-13-kamoske-et-al-2022.md\n",
      "01/19/2023  10:58 AM               685 2022-08-27-swanwick-et-al-2022.md\n",
      "01/19/2023  10:58 AM               657 2022-09-09-zimba-et-al-2022.md\n",
      "01/19/2023  10:58 AM               643 2022-09-10-islam-et-al-2022.md\n",
      "01/19/2023  10:58 AM               664 2022-11-11-winzeler-et-al-2022.md\n",
      "01/19/2023  10:58 AM               632 2022-12-06-allan-et-al-2022.md\n",
      "01/19/2023  10:58 AM               726 2022-12-23-mcmillan-et-al-2023.md\n",
      "01/19/2023  10:58 AM               941 2023-01-12-gurung-et-al-2023.md\n",
      "01/19/2023  10:58 AM               807 2023-01-18-nestle-et-al-2023.md\n",
      "              57 File(s)         42,350 bytes\n",
      "\n",
      "     Total Files Listed:\n",
      "              57 File(s)         42,350 bytes\n",
      "               2 Dir(s)  158,211,067,904 bytes free\n",
      "\n",
      "C:\\Users\\qdread\\Documents\\GitHub\\qdread.github.io\\markdown_generator>"
     ]
    }
   ],
   "source": [
    "%%cmd\n",
    "dir /s /o:-d ..\\_publications\\ "
   ]
  },
  {
   "cell_type": "code",
   "execution_count": null,
   "metadata": {},
   "outputs": [],
   "source": []
  }
 ],
 "metadata": {
  "kernelspec": {
   "display_name": "Python 3 (ipykernel)",
   "language": "python",
   "name": "python3"
  },
  "language_info": {
   "codemirror_mode": {
    "name": "ipython",
    "version": 3
   },
   "file_extension": ".py",
   "mimetype": "text/x-python",
   "name": "python",
   "nbconvert_exporter": "python",
   "pygments_lexer": "ipython3",
   "version": "3.10.0"
  }
 },
 "nbformat": 4,
 "nbformat_minor": 4
}
