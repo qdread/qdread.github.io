{
 "cells": [
  {
   "cell_type": "markdown",
   "metadata": {},
   "source": [
    "# Publications markdown generator for academicpages\n",
    "\n",
    "Takes a TSV of publications with metadata and converts them for use with [academicpages.github.io](academicpages.github.io). This is an interactive Jupyter notebook ([see more info here](http://jupyter-notebook-beginner-guide.readthedocs.io/en/latest/what_is_jupyter.html)). The core python code is also in `publications.py`. Run either from the `markdown_generator` folder after replacing `publications.tsv` with one containing your data.\n",
    "\n",
    "TODO: Make this work with BibTex and other databases of citations, rather than Stuart's non-standard TSV format and citation style.\n"
   ]
  },
  {
   "cell_type": "markdown",
   "metadata": {},
   "source": [
    "## Data format\n",
    "\n",
    "The TSV needs to have the following columns: pub_date, title, venue, excerpt, citation, site_url, and paper_url, with a header at the top. \n",
    "\n",
    "- `excerpt` and `paper_url` can be blank, but the others must have values. \n",
    "- `pub_date` must be formatted as YYYY-MM-DD.\n",
    "- `url_slug` will be the descriptive part of the .md file and the permalink URL for the page about the paper. The .md file will be `YYYY-MM-DD-[url_slug].md` and the permalink will be `https://[yourdomain]/publications/YYYY-MM-DD-[url_slug]`\n",
    "\n",
    "This is how the raw file looks (it doesn't look pretty, use a spreadsheet or other program to edit and create)."
   ]
  },
  {
   "cell_type": "code",
   "execution_count": 1,
   "metadata": {},
   "outputs": [
    {
     "name": "stdout",
     "output_type": "stream",
     "text": [
      "pub_date\ttitle\tvenue\texcerpt\tcitation\turl_slug\tpaper_url\n",
      "2024-09-11\tInterpreting the spatial distribution of soil properties with a physically-based distributed hydrological model\tGeoderma Regional\tOpen access!\t\"Libohova, Z., M. Mancini, H. E. Winzeler, Q. D. Read, N. Sun, D. Beaudette, C. Williams, J. Blackstock, S. H. G. Silva, N. Curi, K. Adhikari, A. Ashworth, J. Minia, and P. R. Owens. 2024. Interpreting the spatial distribution of soil properties with a physically-based distributed hydrological model. Geoderma Regional: e00863. DOI: 10.1016/j.geodrs.2024.e00863.\"\tlibohova-et-al-2024\thttps://doi.org/10.1016/j.geodrs.2024.e00863\n",
      "2024-08-12\tA natural polymer material as a pesticide adjuvant for mitigating off-target drift\tHeliyon\tOpen access!\t\"Kannan, N., Q. D. Read, and W. Zhang. A natural polymer material as a pesticide adjuvant for mitigating off-target drift. 2024. Heliyon 10(16): e35510. DOI: 10.1016/j.heliyon.2024.e35510.\"\tkannan-et-al-2024\thttps://doi.org/10.1016/j.heliyon.2024.e35510\n"
     ]
    }
   ],
   "source": [
    "!Powershell.exe -Command type publications.tsv -Head 3"
   ]
  },
  {
   "cell_type": "markdown",
   "metadata": {},
   "source": [
    "## Import pandas\n",
    "\n",
    "We are using the very handy pandas library for dataframes."
   ]
  },
  {
   "cell_type": "code",
   "execution_count": 2,
   "metadata": {},
   "outputs": [],
   "source": [
    "import pandas as pd"
   ]
  },
  {
   "cell_type": "markdown",
   "metadata": {},
   "source": [
    "## Import TSV\n",
    "\n",
    "Pandas makes this easy with the read_csv function. We are using a TSV, so we specify the separator as a tab, or `\\t`.\n",
    "\n",
    "I found it important to put this data in a tab-separated values format, because there are a lot of commas in this kind of data and comma-separated values can get messed up. However, you can modify the import statement, as pandas also has read_excel(), read_json(), and others."
   ]
  },
  {
   "cell_type": "code",
   "execution_count": 3,
   "metadata": {},
   "outputs": [
    {
     "data": {
      "text/html": [
       "<div>\n",
       "<style scoped>\n",
       "    .dataframe tbody tr th:only-of-type {\n",
       "        vertical-align: middle;\n",
       "    }\n",
       "\n",
       "    .dataframe tbody tr th {\n",
       "        vertical-align: top;\n",
       "    }\n",
       "\n",
       "    .dataframe thead th {\n",
       "        text-align: right;\n",
       "    }\n",
       "</style>\n",
       "<table border=\"1\" class=\"dataframe\">\n",
       "  <thead>\n",
       "    <tr style=\"text-align: right;\">\n",
       "      <th></th>\n",
       "      <th>pub_date</th>\n",
       "      <th>title</th>\n",
       "      <th>venue</th>\n",
       "      <th>excerpt</th>\n",
       "      <th>citation</th>\n",
       "      <th>url_slug</th>\n",
       "      <th>paper_url</th>\n",
       "    </tr>\n",
       "  </thead>\n",
       "  <tbody>\n",
       "    <tr>\n",
       "      <th>0</th>\n",
       "      <td>2024-09-11</td>\n",
       "      <td>Interpreting the spatial distribution of soil ...</td>\n",
       "      <td>Geoderma Regional</td>\n",
       "      <td>Open access!</td>\n",
       "      <td>Libohova, Z., M. Mancini, H. E. Winzeler, Q. D...</td>\n",
       "      <td>libohova-et-al-2024</td>\n",
       "      <td>https://doi.org/10.1016/j.geodrs.2024.e00863</td>\n",
       "    </tr>\n",
       "    <tr>\n",
       "      <th>1</th>\n",
       "      <td>2024-08-12</td>\n",
       "      <td>A natural polymer material as a pesticide adju...</td>\n",
       "      <td>Heliyon</td>\n",
       "      <td>Open access!</td>\n",
       "      <td>Kannan, N., Q. D. Read, and W. Zhang. A natura...</td>\n",
       "      <td>kannan-et-al-2024</td>\n",
       "      <td>https://doi.org/10.1016/j.heliyon.2024.e35510</td>\n",
       "    </tr>\n",
       "    <tr>\n",
       "      <th>2</th>\n",
       "      <td>2024-08-03</td>\n",
       "      <td>Effects of full-fat high-oleic soybean meal in...</td>\n",
       "      <td>Poultry Science</td>\n",
       "      <td>Open access!</td>\n",
       "      <td>Toomer, O. T., P. Maharjan, K. L. Harding, T. ...</td>\n",
       "      <td>toomer-et-al-2024</td>\n",
       "      <td>https://doi.org/10.1016/j.psj.2024.104074</td>\n",
       "    </tr>\n",
       "    <tr>\n",
       "      <th>3</th>\n",
       "      <td>2024-07-05</td>\n",
       "      <td>Environmental influences on drying rate of spr...</td>\n",
       "      <td>PhytoFrontiers</td>\n",
       "      <td>Open access!</td>\n",
       "      <td>Copes, W. E., Q. D. Read, and B. J. Smith. Env...</td>\n",
       "      <td>copes-et-al-2024</td>\n",
       "      <td>https://doi.org/10.1094/PHYTOFR-03-24-0019-R</td>\n",
       "    </tr>\n",
       "    <tr>\n",
       "      <th>4</th>\n",
       "      <td>2024-07-01</td>\n",
       "      <td>Human milk oligosaccharides and Bifidobacteria...</td>\n",
       "      <td>Current Developments in Nutrition</td>\n",
       "      <td>NaN</td>\n",
       "      <td>Mulakala, B. K., M. Salinas, J. Rearick, B. On...</td>\n",
       "      <td>mulakala-et-al-2024</td>\n",
       "      <td>https://doi.org/10.1016/j.cdnut.2024.103429</td>\n",
       "    </tr>\n",
       "  </tbody>\n",
       "</table>\n",
       "</div>"
      ],
      "text/plain": [
       "     pub_date                                              title  \\\n",
       "0  2024-09-11  Interpreting the spatial distribution of soil ...   \n",
       "1  2024-08-12  A natural polymer material as a pesticide adju...   \n",
       "2  2024-08-03  Effects of full-fat high-oleic soybean meal in...   \n",
       "3  2024-07-05  Environmental influences on drying rate of spr...   \n",
       "4  2024-07-01  Human milk oligosaccharides and Bifidobacteria...   \n",
       "\n",
       "                               venue       excerpt  \\\n",
       "0                  Geoderma Regional  Open access!   \n",
       "1                            Heliyon  Open access!   \n",
       "2                    Poultry Science  Open access!   \n",
       "3                     PhytoFrontiers  Open access!   \n",
       "4  Current Developments in Nutrition           NaN   \n",
       "\n",
       "                                            citation             url_slug  \\\n",
       "0  Libohova, Z., M. Mancini, H. E. Winzeler, Q. D...  libohova-et-al-2024   \n",
       "1  Kannan, N., Q. D. Read, and W. Zhang. A natura...    kannan-et-al-2024   \n",
       "2  Toomer, O. T., P. Maharjan, K. L. Harding, T. ...    toomer-et-al-2024   \n",
       "3  Copes, W. E., Q. D. Read, and B. J. Smith. Env...     copes-et-al-2024   \n",
       "4  Mulakala, B. K., M. Salinas, J. Rearick, B. On...  mulakala-et-al-2024   \n",
       "\n",
       "                                       paper_url  \n",
       "0   https://doi.org/10.1016/j.geodrs.2024.e00863  \n",
       "1  https://doi.org/10.1016/j.heliyon.2024.e35510  \n",
       "2      https://doi.org/10.1016/j.psj.2024.104074  \n",
       "3   https://doi.org/10.1094/PHYTOFR-03-24-0019-R  \n",
       "4    https://doi.org/10.1016/j.cdnut.2024.103429  "
      ]
     },
     "execution_count": 3,
     "metadata": {},
     "output_type": "execute_result"
    }
   ],
   "source": [
    "publications = pd.read_csv(\"publications.tsv\", sep=\"\\t\", header=0)\n",
    "publications.head()\n"
   ]
  },
  {
   "cell_type": "markdown",
   "metadata": {},
   "source": [
    "## Escape special characters\n",
    "\n",
    "YAML is very picky about how it takes a valid string, so we are replacing single and double quotes (and ampersands) with their HTML encoded equivilents. This makes them look not so readable in raw format, but they are parsed and rendered nicely."
   ]
  },
  {
   "cell_type": "code",
   "execution_count": 4,
   "metadata": {},
   "outputs": [],
   "source": [
    "html_escape_table = {\n",
    "    \"&\": \"&amp;\",\n",
    "    '\"': \"&quot;\",\n",
    "    \"'\": \"&apos;\"\n",
    "    }\n",
    "\n",
    "def html_escape(text):\n",
    "    \"\"\"Produce entities within text.\"\"\"\n",
    "    return \"\".join(html_escape_table.get(c,c) for c in text)"
   ]
  },
  {
   "cell_type": "code",
   "execution_count": 5,
   "metadata": {},
   "outputs": [],
   "source": [
    "# Here, subset the rows of publications to only 1 or however many we need to update right now\n",
    "publications = publications.head(1)"
   ]
  },
  {
   "cell_type": "code",
   "execution_count": 6,
   "metadata": {},
   "outputs": [
    {
     "data": {
      "text/plain": [
       "'0    2024-09-11\\nName: pub_date, dtype: object'"
      ]
     },
     "execution_count": 6,
     "metadata": {},
     "output_type": "execute_result"
    }
   ],
   "source": [
    "# Some test code to see what the filename would be\n",
    "str(publications['pub_date'])"
   ]
  },
  {
   "cell_type": "markdown",
   "metadata": {},
   "source": [
    "## Creating the markdown files\n",
    "\n",
    "This is where the heavy lifting is done. This loops through all the rows in the TSV dataframe, then starts to concatentate a big string (```md```) that contains the markdown for each type. It does the YAML metadata first, then does the description for the individual page."
   ]
  },
  {
   "cell_type": "code",
   "execution_count": 7,
   "metadata": {},
   "outputs": [],
   "source": [
    "import os\n",
    "for row, item in publications.iterrows():\n",
    "    \n",
    "    md_filename = str(item.pub_date) + \"-\" + item.url_slug + \".md\"\n",
    "    html_filename = str(item.pub_date) + \"-\" + item.url_slug\n",
    "    year = str(item.pub_date)[:4]\n",
    "    \n",
    "    ## YAML variables\n",
    "    \n",
    "    md = \"---\\ntitle: \\\"\"   + item.title + '\"\\n'\n",
    "    \n",
    "    md += \"\"\"collection: publications\"\"\"\n",
    "    \n",
    "    md += \"\"\"\\npermalink: /publication/\"\"\" + html_filename\n",
    "    \n",
    "    if len(str(item.excerpt)) > 5:\n",
    "        md += \"\\nexcerpt: '\" + html_escape(item.excerpt) + \"'\"\n",
    "    \n",
    "    md += \"\\ndate: \" + str(item.pub_date) \n",
    "    \n",
    "    md += \"\\nvenue: '\" + html_escape(item.venue) + \"'\"\n",
    "    \n",
    "    if len(str(item.paper_url)) > 5:\n",
    "        md += \"\\npaperurl: '\" + item.paper_url + \"'\"\n",
    "    \n",
    "    md += \"\\ncitation: '\" + html_escape(item.citation) + \"'\"\n",
    "    \n",
    "    md += \"\\n---\"\n",
    "    \n",
    "    ## Markdown description for individual page\n",
    "        \n",
    "    if len(str(item.excerpt)) > 5:\n",
    "        md += \"\\n\" + html_escape(item.excerpt) + \"\\n\"\n",
    "    \n",
    "    if len(str(item.paper_url)) > 5:\n",
    "        md += \"\\n[Download paper here](\" + item.paper_url + \")\\n\" \n",
    "        \n",
    "    ##md += \"\\nRecommended citation: \" + item.citation\n",
    "    \n",
    "    md_filename = os.path.basename(md_filename)\n",
    "       \n",
    "    with open(\"../_publications/\" + md_filename, 'w') as f:\n",
    "        f.write(md)"
   ]
  },
  {
   "cell_type": "markdown",
   "metadata": {},
   "source": [
    "These files are in the publications directory, one directory below where we're working from."
   ]
  },
  {
   "cell_type": "code",
   "execution_count": 8,
   "metadata": {},
   "outputs": [
    {
     "name": "stdout",
     "output_type": "stream",
     "text": [
      "Microsoft Windows [Version 10.0.22631.3880]\n",
      "(c) Microsoft Corporation. All rights reserved.\n",
      "\n",
      "C:\\Users\\Quentin.Read\\Documents\\GitHub\\qdread.github.io\\markdown_generator>dir /s /o:-d ..\\_publications\\ \n",
      " Volume in drive C is OS\n",
      " Volume Serial Number is 262B-7618\n",
      "\n",
      " Directory of C:\\Users\\Quentin.Read\\Documents\\GitHub\\qdread.github.io\\_publications\n",
      "\n",
      "08/09/2024  12:34 PM               749 2024-08-03-toomer-et-al-2024.md\n",
      "08/09/2024  12:34 PM    <DIR>          .\n",
      "07/24/2024  11:06 AM               666 2024-07-05-copes-et-al-2024.md\n",
      "07/24/2024  11:06 AM               781 2024-07-01-mulakala-et-al-2024.md\n",
      "06/19/2024  06:12 AM    <DIR>          ..\n",
      "05/27/2024  09:10 AM               694 2024-05-27-owens-et-al-2024.md\n",
      "05/27/2024  08:56 AM               794 2024-02-16-rering-et-al-2024.md\n",
      "05/24/2024  02:31 PM               767 2024-03-26-gurung-et-al-2024.md\n",
      "05/24/2024  02:31 PM               691 2024-02-06-mengistu-et-al-2024.md\n",
      "05/24/2024  02:31 PM               824 2024-05-06-elkins-et-al-2024.md\n",
      "04/11/2024  11:41 AM               693 2024-02-29-koebernick-et-al-2024.md\n",
      "04/11/2024  11:41 AM               700 2024-01-31-shanahan-et-al-2024.md\n",
      "04/11/2024  11:41 AM               783 2024-02-13-heintzman-et-al-2024.md\n",
      "04/11/2024  11:41 AM               702 2024-01-29-safaee-et-al-2024.md\n",
      "04/11/2024  11:41 AM               787 2024-01-24-shults-et-al-2024.md\n",
      "04/11/2024  11:41 AM               548 2024-01-18-grady-et-al-2024.md\n",
      "04/11/2024  11:41 AM               640 2024-01-03-little-et-al-2024.md\n",
      "04/11/2024  11:41 AM               777 2023-12-23-halbritter-et-al-2023.md\n",
      "04/11/2024  11:41 AM               680 2023-12-06-martin-ewert-et-al-2023.md\n",
      "04/11/2024  11:41 AM               596 2023-11-11-penn-and-read-2023.md\n",
      "04/11/2024  11:41 AM               882 2023-11-02-cho-et-al-2023.md\n",
      "04/11/2024  11:41 AM               762 2023-10-20-osei-owusu-et-al-2023.md\n",
      "04/11/2024  11:41 AM               791 2023-07-21-degracia-et-al-2023.md\n",
      "04/11/2024  11:41 AM               767 2023-06-12-yeh-et-al-2023.md\n",
      "04/11/2024  11:41 AM               600 2023-05-19-taliercio-et-al-2023.md\n",
      "04/11/2024  11:41 AM               546 2023-08-01-balkcom-et-al-2023.md\n",
      "04/11/2024  11:41 AM               560 2023-05-15-jia-and-read-2023.md\n",
      "04/11/2024  11:41 AM               556 2023-04-11-cowger-et-al-2023.md\n",
      "04/11/2024  11:41 AM               679 2023-03-16-fett-et-al-2023.md\n",
      "04/11/2024  11:41 AM               622 2023-02-16-mengistu-et-al-2023.md\n",
      "04/11/2024  11:41 AM               706 2023-02-01-adeli-et-al-2023.md\n",
      "04/11/2024  11:41 AM               807 2023-01-18-nestle-et-al-2023.md\n",
      "04/11/2024  11:41 AM               941 2023-01-12-gurung-et-al-2023.md\n",
      "04/11/2024  11:41 AM               726 2022-12-23-mcmillan-et-al-2023.md\n",
      "04/11/2024  11:41 AM               632 2022-12-06-allan-et-al-2022.md\n",
      "04/11/2024  11:41 AM             1,036 2022-10-18-prager-et-al-2022.md\n",
      "04/11/2024  11:41 AM               612 2023-01-24-zollota-et-al-2023.md\n",
      "04/11/2024  11:41 AM               664 2022-11-11-winzeler-et-al-2022.md\n",
      "04/11/2024  11:41 AM               643 2022-09-10-islam-et-al-2022.md\n",
      "04/11/2024  11:41 AM               657 2022-09-09-zimba-et-al-2022.md\n",
      "04/11/2024  11:41 AM               795 2022-05-13-kamoske-et-al-2022.md\n",
      "04/11/2024  11:41 AM               766 2022-05-01-mcintyre-butts-and-read-2022.md\n",
      "04/11/2024  11:41 AM               685 2022-08-27-swanwick-et-al-2022.md\n",
      "04/11/2024  11:41 AM             1,079 2022-04-15-mason-et-al-2022.md\n",
      "04/11/2024  11:41 AM             1,870 2022-04-04-read-et-al-2022-pnas.md\n",
      "04/11/2024  11:41 AM               647 2022-03-12-sthapit-kandel-et-al-2022.md\n",
      "04/11/2024  11:41 AM               641 2022-01-03-rewcastle-et-al-2022.md\n",
      "04/11/2024  11:41 AM               802 2021-06-21-dahlin-et-al-2021.md\n",
      "04/11/2024  11:41 AM               591 2021-04-20-prager-et-al-2021.md\n",
      "04/11/2024  11:41 AM               468 2021-04-01-marston-et-al-2021.md\n",
      "04/11/2024  11:41 AM               676 2021-02-02-read-and-muth-2021.md\n",
      "04/11/2024  11:41 AM               581 2021-01-20-metson-et-al-2021-oneearth.md\n",
      "04/11/2024  11:41 AM               662 2020-01-24-read-et-al-2020-global-ecol-biogeog.md\n",
      "04/11/2024  11:41 AM             1,137 2020-06-01-record-et-al-2020-remote-sensing-of-biodiversity.md\n",
      "04/11/2024  11:41 AM               801 2020-01-14-read-et-al-2020-sci-tot-env.md\n",
      "04/11/2024  11:41 AM               911 2019-07-16-muth-et-al-2019.md\n",
      "04/11/2024  11:41 AM               696 2019-03-12-henning-et-al-2019.md\n",
      "04/11/2024  11:41 AM               801 2019-02-27-zarnetske-et-al-2019.md\n",
      "04/11/2024  11:41 AM               669 2018-10-20-grady-et-al-2018.md\n",
      "04/11/2024  11:41 AM               749 2018-10-01-read-et-al-2018-ecography.md\n",
      "04/11/2024  11:41 AM               684 2018-05-01-welshofer-et-al-2018.md\n",
      "04/11/2024  11:41 AM               676 2018-03-06-read-et-al-2018-j-plant-ecology.md\n",
      "04/11/2024  11:41 AM               589 2018-01-24-read-et-al-2018-biology-letters.md\n",
      "04/11/2024  11:41 AM               648 2017-09-01-read-et-al-2017-j-veg-sci.md\n",
      "04/11/2024  11:41 AM               574 2017-12-29-butler-et-al-2017.md\n",
      "04/11/2024  11:41 AM               817 2017-07-01-hendershot-et-al-2017.md\n",
      "04/11/2024  11:41 AM               773 2016-08-01-yoon-and-read-2016.md\n",
      "04/11/2024  11:41 AM               682 2016-07-01-vannuland-et-al-2016.md\n",
      "04/11/2024  11:41 AM               806 2016-07-01-read-et-al-2016-oikos.md\n",
      "04/11/2024  11:41 AM               741 2015-09-01-schussler-et-al-2015.md\n",
      "04/11/2024  11:41 AM               776 2013-12-07-gorman-et-al-2013.md\n",
      "04/11/2024  11:41 AM               871 2014-02-01-read-et-al-2014-functional-ecology.md\n",
      "04/11/2024  11:41 AM               708 2013-11-12-vannuland-et-al-2013.md\n",
      "04/11/2024  11:41 AM               724 2012-02-29-clark-et-al-2012.md\n",
      "              72 File(s)         53,157 bytes\n",
      "\n",
      "     Total Files Listed:\n",
      "              72 File(s)         53,157 bytes\n",
      "               2 Dir(s)  211,636,809,728 bytes free\n",
      "\n",
      "C:\\Users\\Quentin.Read\\Documents\\GitHub\\qdread.github.io\\markdown_generator>"
     ]
    }
   ],
   "source": [
    "%%cmd\n",
    "dir /s /o:-d ..\\_publications\\ "
   ]
  },
  {
   "cell_type": "code",
   "execution_count": null,
   "metadata": {},
   "outputs": [],
   "source": []
  }
 ],
 "metadata": {
  "kernelspec": {
   "display_name": "Python 3 (ipykernel)",
   "language": "python",
   "name": "python3"
  },
  "language_info": {
   "codemirror_mode": {
    "name": "ipython",
    "version": 3
   },
   "file_extension": ".py",
   "mimetype": "text/x-python",
   "name": "python",
   "nbconvert_exporter": "python",
   "pygments_lexer": "ipython3",
   "version": "3.12.3"
  }
 },
 "nbformat": 4,
 "nbformat_minor": 4
}
