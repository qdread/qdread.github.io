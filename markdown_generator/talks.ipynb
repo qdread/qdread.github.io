{
 "cells": [
  {
   "cell_type": "markdown",
   "metadata": {},
   "source": [
    "# Talks markdown generator for academicpages\n",
    "\n",
    "Takes a TSV of talks with metadata and converts them for use with [academicpages.github.io](academicpages.github.io). This is an interactive Jupyter notebook ([see more info here](http://jupyter-notebook-beginner-guide.readthedocs.io/en/latest/what_is_jupyter.html)). The core python code is also in `talks.py`. Run either from the `markdown_generator` folder after replacing `talks.tsv` with one containing your data.\n",
    "\n",
    "TODO: Make this work with BibTex and other databases, rather than Stuart's non-standard TSV format and citation style."
   ]
  },
  {
   "cell_type": "code",
   "execution_count": 1,
   "metadata": {},
   "outputs": [],
   "source": [
    "import pandas as pd\n",
    "import os"
   ]
  },
  {
   "cell_type": "markdown",
   "metadata": {},
   "source": [
    "## Data format\n",
    "\n",
    "The TSV needs to have the following columns: title, type, url_slug, venue, date, location, talk_url, description, with a header at the top. Many of these fields can be blank, but the columns must be in the TSV.\n",
    "\n",
    "- Fields that cannot be blank: `title`, `url_slug`, `date`. All else can be blank. `type` defaults to \"Talk\" \n",
    "- `date` must be formatted as YYYY-MM-DD.\n",
    "- `url_slug` will be the descriptive part of the .md file and the permalink URL for the page about the paper. \n",
    "    - The .md file will be `YYYY-MM-DD-[url_slug].md` and the permalink will be `https://[yourdomain]/talks/YYYY-MM-DD-[url_slug]`\n",
    "    - The combination of `url_slug` and `date` must be unique, as it will be the basis for your filenames\n",
    "\n",
    "This is how the raw file looks (it doesn't look pretty, use a spreadsheet or other program to edit and create)."
   ]
  },
  {
   "cell_type": "code",
   "execution_count": 2,
   "metadata": {},
   "outputs": [
    {
     "name": "stdout",
     "output_type": "stream",
     "text": [
      "title\ttype\turl_slug\tvenue\tdate\tlocation\ttalk_url\tdescription\n",
      "Which supply chain stages should we target to reduce food loss and waste and benefit the environment?\tConference presentation\ttalk-esaussee2019\tEcological Society of America/U.S. Society for Ecological Economics joint meeting\t2019-08-14\t\"Louisville, Kentucky\"\t\t\n",
      "Measuring geodiversity to explain biodiversity: what is the effect of spatial grain and spatial 'consciousness?'\tConference presentation\ttalk-iale2018\tInternational Association of Landscape Ecology\t2018-04-09\t\"Chicago, Illinois\"\t\t\n",
      "Intraspecific variation reflects drivers of rodent community assembly across the National Ecological Observatory Network\tConference presentation\ttalk-esa2017\tEcological Society of America\t2017-08-08\t\"Portland, Oregon\"\t\t\n",
      "A globally replicated experiment shows that long-term environmental filters constrain plant response to increased temperature and loss of foundation species\tConference presentation\ttalk-esa2015\tEcological Society of America\t2015-08-11\t\"Baltimore, Maryland\"\t\t\n",
      "Food waste impacts on biodiversity\tInvited talk\ttalk-cec2018\tCommission on Environmental Cooperation\t2018-10-24\t\"Arlington, Virginia\"\t\tat Food Loss and Waste Measurement Experts Group Meeting\n",
      "Challenges in the functional trait approach to community ecology\tInvited talk\ttalk-idiv2017\tGerman Centre for Integrative Biodiversity Research (iDiv)\t2017-11-15\t\"Leipzig, Germany\"\t\t\n",
      "Intraspecific variation and community assembly\tInvited talk\ttalk-neon2017\t\"National Ecological Observatory Network, weekly seminar\"\t2017-01-05\t\"Boulder, Colorado\"\t\tCo-delivered with John Grady\n",
      "Individual variation in organismal traits: predicting patterns in space and time from local to global scales\tInvited talk\ttalk-msu2016\t\"Michigan State University, Hanover Forest Science Seminar Series\"\t2016-09-20\t\"East Lansing, Michigan\"\t\t\n",
      "C3UBE undergraduate biology curriculum reform\tInvited talk\ttalk-nd2015\t\"University of Notre Dame, Biology education seminar\"\t2015-03-01\t\"Notre Dame, Indiana\"\t\t\n",
      "\"Roots, leaves, and soils facing global change\"\tInvited talk\ttalk-rmbl2014\t\"Rocky Mountain Biological Laboratory, weekly seminar\"\t2014-06-01\t\"Gothic, Colorado\"\t\t\n",
      "Plant traits & interactions altered by warming at different elevations\tInvited talk\ttalk-ornl2014\t\"Oak Ridge National Laboratory, Environmental Sciences Division seminar\"\t2014-01-15\t\"Oak Ridge, Tennessee\"\t\t\n"
     ]
    }
   ],
   "source": [
    "!cat talks.tsv"
   ]
  },
  {
   "cell_type": "markdown",
   "metadata": {},
   "source": [
    "## Import TSV\n",
    "\n",
    "Pandas makes this easy with the read_csv function. We are using a TSV, so we specify the separator as a tab, or `\\t`.\n",
    "\n",
    "I found it important to put this data in a tab-separated values format, because there are a lot of commas in this kind of data and comma-separated values can get messed up. However, you can modify the import statement, as pandas also has read_excel(), read_json(), and others."
   ]
  },
  {
   "cell_type": "code",
   "execution_count": 3,
   "metadata": {},
   "outputs": [
    {
     "data": {
      "text/html": [
       "<div>\n",
       "<style scoped>\n",
       "    .dataframe tbody tr th:only-of-type {\n",
       "        vertical-align: middle;\n",
       "    }\n",
       "\n",
       "    .dataframe tbody tr th {\n",
       "        vertical-align: top;\n",
       "    }\n",
       "\n",
       "    .dataframe thead th {\n",
       "        text-align: right;\n",
       "    }\n",
       "</style>\n",
       "<table border=\"1\" class=\"dataframe\">\n",
       "  <thead>\n",
       "    <tr style=\"text-align: right;\">\n",
       "      <th></th>\n",
       "      <th>title</th>\n",
       "      <th>type</th>\n",
       "      <th>url_slug</th>\n",
       "      <th>venue</th>\n",
       "      <th>date</th>\n",
       "      <th>location</th>\n",
       "      <th>talk_url</th>\n",
       "      <th>description</th>\n",
       "    </tr>\n",
       "  </thead>\n",
       "  <tbody>\n",
       "    <tr>\n",
       "      <th>0</th>\n",
       "      <td>Which supply chain stages should we target to ...</td>\n",
       "      <td>Conference presentation</td>\n",
       "      <td>talk-esaussee2019</td>\n",
       "      <td>Ecological Society of America/U.S. Society for...</td>\n",
       "      <td>2019-08-14</td>\n",
       "      <td>Louisville, Kentucky</td>\n",
       "      <td>NaN</td>\n",
       "      <td>NaN</td>\n",
       "    </tr>\n",
       "    <tr>\n",
       "      <th>1</th>\n",
       "      <td>Measuring geodiversity to explain biodiversity...</td>\n",
       "      <td>Conference presentation</td>\n",
       "      <td>talk-iale2018</td>\n",
       "      <td>International Association of Landscape Ecology</td>\n",
       "      <td>2018-04-09</td>\n",
       "      <td>Chicago, Illinois</td>\n",
       "      <td>NaN</td>\n",
       "      <td>NaN</td>\n",
       "    </tr>\n",
       "    <tr>\n",
       "      <th>2</th>\n",
       "      <td>Intraspecific variation reflects drivers of ro...</td>\n",
       "      <td>Conference presentation</td>\n",
       "      <td>talk-esa2017</td>\n",
       "      <td>Ecological Society of America</td>\n",
       "      <td>2017-08-08</td>\n",
       "      <td>Portland, Oregon</td>\n",
       "      <td>NaN</td>\n",
       "      <td>NaN</td>\n",
       "    </tr>\n",
       "    <tr>\n",
       "      <th>3</th>\n",
       "      <td>A globally replicated experiment shows that lo...</td>\n",
       "      <td>Conference presentation</td>\n",
       "      <td>talk-esa2015</td>\n",
       "      <td>Ecological Society of America</td>\n",
       "      <td>2015-08-11</td>\n",
       "      <td>Baltimore, Maryland</td>\n",
       "      <td>NaN</td>\n",
       "      <td>NaN</td>\n",
       "    </tr>\n",
       "    <tr>\n",
       "      <th>4</th>\n",
       "      <td>Food waste impacts on biodiversity</td>\n",
       "      <td>Invited talk</td>\n",
       "      <td>talk-cec2018</td>\n",
       "      <td>Commission on Environmental Cooperation</td>\n",
       "      <td>2018-10-24</td>\n",
       "      <td>Arlington, Virginia</td>\n",
       "      <td>NaN</td>\n",
       "      <td>at Food Loss and Waste Measurement Experts Gro...</td>\n",
       "    </tr>\n",
       "    <tr>\n",
       "      <th>5</th>\n",
       "      <td>Challenges in the functional trait approach to...</td>\n",
       "      <td>Invited talk</td>\n",
       "      <td>talk-idiv2017</td>\n",
       "      <td>German Centre for Integrative Biodiversity Res...</td>\n",
       "      <td>2017-11-15</td>\n",
       "      <td>Leipzig, Germany</td>\n",
       "      <td>NaN</td>\n",
       "      <td>NaN</td>\n",
       "    </tr>\n",
       "    <tr>\n",
       "      <th>6</th>\n",
       "      <td>Intraspecific variation and community assembly</td>\n",
       "      <td>Invited talk</td>\n",
       "      <td>talk-neon2017</td>\n",
       "      <td>National Ecological Observatory Network, weekl...</td>\n",
       "      <td>2017-01-05</td>\n",
       "      <td>Boulder, Colorado</td>\n",
       "      <td>NaN</td>\n",
       "      <td>Co-delivered with John Grady</td>\n",
       "    </tr>\n",
       "    <tr>\n",
       "      <th>7</th>\n",
       "      <td>Individual variation in organismal traits: pre...</td>\n",
       "      <td>Invited talk</td>\n",
       "      <td>talk-msu2016</td>\n",
       "      <td>Michigan State University, Hanover Forest Scie...</td>\n",
       "      <td>2016-09-20</td>\n",
       "      <td>East Lansing, Michigan</td>\n",
       "      <td>NaN</td>\n",
       "      <td>NaN</td>\n",
       "    </tr>\n",
       "    <tr>\n",
       "      <th>8</th>\n",
       "      <td>C3UBE undergraduate biology curriculum reform</td>\n",
       "      <td>Invited talk</td>\n",
       "      <td>talk-nd2015</td>\n",
       "      <td>University of Notre Dame, Biology education se...</td>\n",
       "      <td>2015-03-01</td>\n",
       "      <td>Notre Dame, Indiana</td>\n",
       "      <td>NaN</td>\n",
       "      <td>NaN</td>\n",
       "    </tr>\n",
       "    <tr>\n",
       "      <th>9</th>\n",
       "      <td>Roots, leaves, and soils facing global change</td>\n",
       "      <td>Invited talk</td>\n",
       "      <td>talk-rmbl2014</td>\n",
       "      <td>Rocky Mountain Biological Laboratory, weekly s...</td>\n",
       "      <td>2014-06-01</td>\n",
       "      <td>Gothic, Colorado</td>\n",
       "      <td>NaN</td>\n",
       "      <td>NaN</td>\n",
       "    </tr>\n",
       "    <tr>\n",
       "      <th>10</th>\n",
       "      <td>Plant traits &amp; interactions altered by warming...</td>\n",
       "      <td>Invited talk</td>\n",
       "      <td>talk-ornl2014</td>\n",
       "      <td>Oak Ridge National Laboratory, Environmental S...</td>\n",
       "      <td>2014-01-15</td>\n",
       "      <td>Oak Ridge, Tennessee</td>\n",
       "      <td>NaN</td>\n",
       "      <td>NaN</td>\n",
       "    </tr>\n",
       "  </tbody>\n",
       "</table>\n",
       "</div>"
      ],
      "text/plain": [
       "                                                title  \\\n",
       "0   Which supply chain stages should we target to ...   \n",
       "1   Measuring geodiversity to explain biodiversity...   \n",
       "2   Intraspecific variation reflects drivers of ro...   \n",
       "3   A globally replicated experiment shows that lo...   \n",
       "4                  Food waste impacts on biodiversity   \n",
       "5   Challenges in the functional trait approach to...   \n",
       "6      Intraspecific variation and community assembly   \n",
       "7   Individual variation in organismal traits: pre...   \n",
       "8       C3UBE undergraduate biology curriculum reform   \n",
       "9       Roots, leaves, and soils facing global change   \n",
       "10  Plant traits & interactions altered by warming...   \n",
       "\n",
       "                       type           url_slug  \\\n",
       "0   Conference presentation  talk-esaussee2019   \n",
       "1   Conference presentation      talk-iale2018   \n",
       "2   Conference presentation       talk-esa2017   \n",
       "3   Conference presentation       talk-esa2015   \n",
       "4              Invited talk       talk-cec2018   \n",
       "5              Invited talk      talk-idiv2017   \n",
       "6              Invited talk      talk-neon2017   \n",
       "7              Invited talk       talk-msu2016   \n",
       "8              Invited talk        talk-nd2015   \n",
       "9              Invited talk      talk-rmbl2014   \n",
       "10             Invited talk      talk-ornl2014   \n",
       "\n",
       "                                                venue        date  \\\n",
       "0   Ecological Society of America/U.S. Society for...  2019-08-14   \n",
       "1      International Association of Landscape Ecology  2018-04-09   \n",
       "2                       Ecological Society of America  2017-08-08   \n",
       "3                       Ecological Society of America  2015-08-11   \n",
       "4             Commission on Environmental Cooperation  2018-10-24   \n",
       "5   German Centre for Integrative Biodiversity Res...  2017-11-15   \n",
       "6   National Ecological Observatory Network, weekl...  2017-01-05   \n",
       "7   Michigan State University, Hanover Forest Scie...  2016-09-20   \n",
       "8   University of Notre Dame, Biology education se...  2015-03-01   \n",
       "9   Rocky Mountain Biological Laboratory, weekly s...  2014-06-01   \n",
       "10  Oak Ridge National Laboratory, Environmental S...  2014-01-15   \n",
       "\n",
       "                  location  talk_url  \\\n",
       "0     Louisville, Kentucky       NaN   \n",
       "1        Chicago, Illinois       NaN   \n",
       "2         Portland, Oregon       NaN   \n",
       "3      Baltimore, Maryland       NaN   \n",
       "4      Arlington, Virginia       NaN   \n",
       "5         Leipzig, Germany       NaN   \n",
       "6        Boulder, Colorado       NaN   \n",
       "7   East Lansing, Michigan       NaN   \n",
       "8      Notre Dame, Indiana       NaN   \n",
       "9         Gothic, Colorado       NaN   \n",
       "10    Oak Ridge, Tennessee       NaN   \n",
       "\n",
       "                                          description  \n",
       "0                                                 NaN  \n",
       "1                                                 NaN  \n",
       "2                                                 NaN  \n",
       "3                                                 NaN  \n",
       "4   at Food Loss and Waste Measurement Experts Gro...  \n",
       "5                                                 NaN  \n",
       "6                        Co-delivered with John Grady  \n",
       "7                                                 NaN  \n",
       "8                                                 NaN  \n",
       "9                                                 NaN  \n",
       "10                                                NaN  "
      ]
     },
     "execution_count": 3,
     "metadata": {},
     "output_type": "execute_result"
    }
   ],
   "source": [
    "talks = pd.read_csv(\"talks.tsv\", sep=\"\\t\", header=0)\n",
    "talks"
   ]
  },
  {
   "cell_type": "markdown",
   "metadata": {},
   "source": [
    "## Escape special characters\n",
    "\n",
    "YAML is very picky about how it takes a valid string, so we are replacing single and double quotes (and ampersands) with their HTML encoded equivilents. This makes them look not so readable in raw format, but they are parsed and rendered nicely."
   ]
  },
  {
   "cell_type": "code",
   "execution_count": 4,
   "metadata": {},
   "outputs": [],
   "source": [
    "html_escape_table = {\n",
    "    \"&\": \"&amp;\",\n",
    "    '\"': \"&quot;\",\n",
    "    \"'\": \"&apos;\"\n",
    "    }\n",
    "\n",
    "def html_escape(text):\n",
    "    if type(text) is str:\n",
    "        return \"\".join(html_escape_table.get(c,c) for c in text)\n",
    "    else:\n",
    "        return \"False\""
   ]
  },
  {
   "cell_type": "code",
   "execution_count": 5,
   "metadata": {},
   "outputs": [
    {
     "data": {
      "text/plain": [
       "'0     2019-08-14\\n1     2018-04-09\\n2     2017-08-08\\n3     2015-08-11\\n4     2018-10-24\\n5     2017-11-15\\n6     2017-01-05\\n7     2016-09-20\\n8     2015-03-01\\n9     2014-06-01\\n10    2014-01-15\\nName: date, dtype: object'"
      ]
     },
     "execution_count": 5,
     "metadata": {},
     "output_type": "execute_result"
    }
   ],
   "source": [
    "# Fix the issues with publication date (excel)\n",
    "str(talks['date'])"
   ]
  },
  {
   "cell_type": "markdown",
   "metadata": {},
   "source": [
    "## Creating the markdown files\n",
    "\n",
    "This is where the heavy lifting is done. This loops through all the rows in the TSV dataframe, then starts to concatentate a big string (```md```) that contains the markdown for each type. It does the YAML metadata first, then does the description for the individual page."
   ]
  },
  {
   "cell_type": "code",
   "execution_count": 6,
   "metadata": {},
   "outputs": [],
   "source": [
    "loc_dict = {}\n",
    "\n",
    "for row, item in talks.iterrows():\n",
    "    \n",
    "    md_filename = str(item.date) + \"-\" + item.url_slug + \".md\"\n",
    "    html_filename = str(item.date) + \"-\" + item.url_slug \n",
    "    year = item.date[:4]\n",
    "    \n",
    "    md = \"---\\ntitle: \\\"\"   + item.title + '\"\\n'\n",
    "    md += \"collection: talks\" + \"\\n\"\n",
    "    \n",
    "    if len(str(item.type)) > 3:\n",
    "        md += 'type: \"' + item.type + '\"\\n'\n",
    "    else:\n",
    "        md += 'type: \"Talk\"\\n'\n",
    "    \n",
    "    md += \"permalink: /talks/\" + html_filename + \"\\n\"\n",
    "    \n",
    "    if len(str(item.venue)) > 3:\n",
    "        md += 'venue: \"' + item.venue + '\"\\n'\n",
    "        \n",
    "    if len(str(item.location)) > 3:\n",
    "        md += \"date: \" + str(item.date) + \"\\n\"\n",
    "    \n",
    "    if len(str(item.location)) > 3:\n",
    "        md += 'location: \"' + str(item.location) + '\"\\n'\n",
    "           \n",
    "    md += \"---\\n\"\n",
    "    \n",
    "    \n",
    "    if len(str(item.talk_url)) > 3:\n",
    "        md += \"\\n[More information here](\" + item.talk_url + \")\\n\" \n",
    "        \n",
    "    \n",
    "    if len(str(item.description)) > 3:\n",
    "        md += \"\\n\" + html_escape(item.description) + \"\\n\"\n",
    "        \n",
    "        \n",
    "    md_filename = os.path.basename(md_filename)\n",
    "    #print(md)\n",
    "    \n",
    "    with open(\"../_talks/\" + md_filename, 'w') as f:\n",
    "        f.write(md)"
   ]
  },
  {
   "cell_type": "markdown",
   "metadata": {},
   "source": [
    "These files are in the talks directory, one directory below where we're working from."
   ]
  },
  {
   "cell_type": "code",
   "execution_count": 7,
   "metadata": {},
   "outputs": [
    {
     "name": "stdout",
     "output_type": "stream",
     "text": [
      "2014-01-15-talk-ornl2014.md\n",
      "2014-06-01-talk-rmbl2014.md\n",
      "2015-03-01-talk-nd2015.md\n",
      "2015-08-11-talk-esa2015.md\n",
      "2016-09-20-talk-msu2016.md\n",
      "2017-01-05-talk-neon2017.md\n",
      "2017-08-08-talk-esa2017.md\n",
      "2017-11-15-talk-idiv2017.md\n",
      "2018-04-09-talk-iale2018.md\n",
      "2018-10-24-talk-cec2018.md\n",
      "2019-08-14-talk-esaussee2019.md\n"
     ]
    }
   ],
   "source": [
    "!ls ../_talks"
   ]
  },
  {
   "cell_type": "code",
   "execution_count": 8,
   "metadata": {},
   "outputs": [
    {
     "name": "stdout",
     "output_type": "stream",
     "text": [
      "---\n",
      "title: \"Which supply chain stages should we target to reduce food loss and waste and benefit the environment?\"\n",
      "collection: talks\n",
      "type: \"Conference presentation\"\n",
      "permalink: /talks/2019-08-14-talk-esaussee2019\n",
      "venue: \"Ecological Society of America/U.S. Society for Ecological Economics joint meeting\"\n",
      "date: 2019-08-14\n",
      "location: \"Louisville, Kentucky\"\n",
      "---\n"
     ]
    }
   ],
   "source": [
    "!cat ../_talks/2019-08-14-talk-esaussee2019.md"
   ]
  },
  {
   "cell_type": "code",
   "execution_count": null,
   "metadata": {},
   "outputs": [],
   "source": []
  }
 ],
 "metadata": {
  "kernelspec": {
   "display_name": "Python 3",
   "language": "python",
   "name": "python3"
  },
  "language_info": {
   "codemirror_mode": {
    "name": "ipython",
    "version": 3
   },
   "file_extension": ".py",
   "mimetype": "text/x-python",
   "name": "python",
   "nbconvert_exporter": "python",
   "pygments_lexer": "ipython3",
   "version": "3.6.5"
  }
 },
 "nbformat": 4,
 "nbformat_minor": 1
}
